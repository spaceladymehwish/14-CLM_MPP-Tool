{
  "cells": [
    {
      "cell_type": "markdown",
      "metadata": {
        "id": "UjN8XXssi4NU"
      },
      "source": [
        "## **Importing Libraries**"
      ]
    },
    {
      "cell_type": "code",
      "execution_count": 1,
      "metadata": {
        "id": "DEME31NT9rIY"
      },
      "outputs": [],
      "source": [
        "%%capture\n",
        "!pip install mordred\n",
        "!pip install rdkit\n"
      ]
    },
    {
      "cell_type": "code",
      "execution_count": 2,
      "metadata": {
        "id": "SAwVl7Dc2u48"
      },
      "outputs": [],
      "source": [
        "# Importing Libraries\n",
        "import rdkit\n",
        "from rdkit import Chem\n",
        "from rdkit.Chem import Draw, PandasTools, AllChem\n",
        "\n",
        "import mordred\n",
        "from mordred import Calculator, descriptors\n"
      ]
    },
    {
      "cell_type": "code",
      "execution_count": 3,
      "metadata": {
        "id": "yYIbNmUbaizv"
      },
      "outputs": [],
      "source": [
        "import pandas as pd\n",
        "import numpy as np\n",
        "import seaborn as sns\n",
        "import matplotlib.pyplot as plt\n",
        "import warnings\n"
      ]
    },
    {
      "cell_type": "code",
      "execution_count": 4,
      "metadata": {
        "id": "UnD8sqXTQJqC"
      },
      "outputs": [],
      "source": [
        "df = pd.read_csv('2-RDKIT 2D descriptors RDKIT.csv')"
      ]
    },
    {
      "cell_type": "markdown",
      "metadata": {
        "id": "NyBoxtHXjZMi"
      },
      "source": [
        "## **Data Preprocessing**\n",
        "\n",
        "\n",
        "\n",
        "1.   Removing missing values/non-numerical values\n",
        "2.   Remove constant values\n",
        "3.   Remove highly correlated values\n",
        "\n",
        "\n",
        "\n"
      ]
    },
    {
      "cell_type": "code",
      "execution_count": 5,
      "metadata": {
        "id": "d8ayppdd12_Z"
      },
      "outputs": [],
      "source": [
        "# If you want to remove the duplicates:\n",
        "df = df.drop_duplicates(keep='first')"
      ]
    },
    {
      "cell_type": "code",
      "execution_count": 6,
      "metadata": {
        "colab": {
          "base_uri": "https://localhost:8080/"
        },
        "id": "8-Z5JG7Y1jgn",
        "outputId": "8cf2aa7a-1f17-4773-b9b0-cd78da091fae"
      },
      "outputs": [
        {
          "data": {
            "text/plain": [
              "(15317, 209)"
            ]
          },
          "execution_count": 6,
          "metadata": {},
          "output_type": "execute_result"
        }
      ],
      "source": [
        "df.shape"
      ]
    },
    {
      "cell_type": "code",
      "execution_count": 7,
      "metadata": {
        "colab": {
          "base_uri": "https://localhost:8080/",
          "height": 261
        },
        "id": "jsOJ_HzjTF4D",
        "outputId": "11d0a369-5d7a-480c-e583-7328c811d054"
      },
      "outputs": [
        {
          "data": {
            "text/html": [
              "<div>\n",
              "<style scoped>\n",
              "    .dataframe tbody tr th:only-of-type {\n",
              "        vertical-align: middle;\n",
              "    }\n",
              "\n",
              "    .dataframe tbody tr th {\n",
              "        vertical-align: top;\n",
              "    }\n",
              "\n",
              "    .dataframe thead th {\n",
              "        text-align: right;\n",
              "    }\n",
              "</style>\n",
              "<table border=\"1\" class=\"dataframe\">\n",
              "  <thead>\n",
              "    <tr style=\"text-align: right;\">\n",
              "      <th></th>\n",
              "      <th>values</th>\n",
              "      <th>MaxEStateIndex</th>\n",
              "      <th>MinEStateIndex</th>\n",
              "      <th>MaxAbsEStateIndex</th>\n",
              "      <th>MinAbsEStateIndex</th>\n",
              "      <th>qed</th>\n",
              "      <th>MolWt</th>\n",
              "      <th>HeavyAtomMolWt</th>\n",
              "      <th>ExactMolWt</th>\n",
              "      <th>NumValenceElectrons</th>\n",
              "      <th>...</th>\n",
              "      <th>fr_sulfide</th>\n",
              "      <th>fr_sulfonamd</th>\n",
              "      <th>fr_sulfone</th>\n",
              "      <th>fr_term_acetylene</th>\n",
              "      <th>fr_tetrazole</th>\n",
              "      <th>fr_thiazole</th>\n",
              "      <th>fr_thiocyan</th>\n",
              "      <th>fr_thiophene</th>\n",
              "      <th>fr_unbrch_alkane</th>\n",
              "      <th>fr_urea</th>\n",
              "    </tr>\n",
              "  </thead>\n",
              "  <tbody>\n",
              "    <tr>\n",
              "      <th>0</th>\n",
              "      <td>1</td>\n",
              "      <td>10.467731</td>\n",
              "      <td>-4.487461</td>\n",
              "      <td>10.467731</td>\n",
              "      <td>1.696759</td>\n",
              "      <td>0.424095</td>\n",
              "      <td>126.004</td>\n",
              "      <td>122.980</td>\n",
              "      <td>125.971810</td>\n",
              "      <td>42</td>\n",
              "      <td>...</td>\n",
              "      <td>0</td>\n",
              "      <td>0</td>\n",
              "      <td>0</td>\n",
              "      <td>0</td>\n",
              "      <td>0</td>\n",
              "      <td>0</td>\n",
              "      <td>0</td>\n",
              "      <td>0</td>\n",
              "      <td>0</td>\n",
              "      <td>0</td>\n",
              "    </tr>\n",
              "    <tr>\n",
              "      <th>1</th>\n",
              "      <td>1</td>\n",
              "      <td>9.163315</td>\n",
              "      <td>-4.433800</td>\n",
              "      <td>9.163315</td>\n",
              "      <td>0.008726</td>\n",
              "      <td>0.937072</td>\n",
              "      <td>307.441</td>\n",
              "      <td>282.241</td>\n",
              "      <td>307.204848</td>\n",
              "      <td>120</td>\n",
              "      <td>...</td>\n",
              "      <td>0</td>\n",
              "      <td>0</td>\n",
              "      <td>0</td>\n",
              "      <td>0</td>\n",
              "      <td>0</td>\n",
              "      <td>0</td>\n",
              "      <td>0</td>\n",
              "      <td>0</td>\n",
              "      <td>0</td>\n",
              "      <td>0</td>\n",
              "    </tr>\n",
              "    <tr>\n",
              "      <th>2</th>\n",
              "      <td>1</td>\n",
              "      <td>16.630408</td>\n",
              "      <td>-8.173020</td>\n",
              "      <td>16.630408</td>\n",
              "      <td>2.011766</td>\n",
              "      <td>0.237873</td>\n",
              "      <td>733.937</td>\n",
              "      <td>666.401</td>\n",
              "      <td>733.461241</td>\n",
              "      <td>298</td>\n",
              "      <td>...</td>\n",
              "      <td>0</td>\n",
              "      <td>0</td>\n",
              "      <td>0</td>\n",
              "      <td>0</td>\n",
              "      <td>0</td>\n",
              "      <td>0</td>\n",
              "      <td>0</td>\n",
              "      <td>0</td>\n",
              "      <td>0</td>\n",
              "      <td>0</td>\n",
              "    </tr>\n",
              "    <tr>\n",
              "      <th>3</th>\n",
              "      <td>1</td>\n",
              "      <td>16.153679</td>\n",
              "      <td>-4.142295</td>\n",
              "      <td>16.153679</td>\n",
              "      <td>0.117580</td>\n",
              "      <td>0.730424</td>\n",
              "      <td>389.387</td>\n",
              "      <td>369.227</td>\n",
              "      <td>389.149932</td>\n",
              "      <td>148</td>\n",
              "      <td>...</td>\n",
              "      <td>0</td>\n",
              "      <td>0</td>\n",
              "      <td>0</td>\n",
              "      <td>0</td>\n",
              "      <td>0</td>\n",
              "      <td>0</td>\n",
              "      <td>0</td>\n",
              "      <td>0</td>\n",
              "      <td>0</td>\n",
              "      <td>0</td>\n",
              "    </tr>\n",
              "    <tr>\n",
              "      <th>4</th>\n",
              "      <td>1</td>\n",
              "      <td>9.531285</td>\n",
              "      <td>-5.872222</td>\n",
              "      <td>9.531285</td>\n",
              "      <td>1.499618</td>\n",
              "      <td>0.164624</td>\n",
              "      <td>496.558</td>\n",
              "      <td>456.238</td>\n",
              "      <td>496.274444</td>\n",
              "      <td>200</td>\n",
              "      <td>...</td>\n",
              "      <td>0</td>\n",
              "      <td>0</td>\n",
              "      <td>0</td>\n",
              "      <td>0</td>\n",
              "      <td>0</td>\n",
              "      <td>0</td>\n",
              "      <td>0</td>\n",
              "      <td>0</td>\n",
              "      <td>0</td>\n",
              "      <td>0</td>\n",
              "    </tr>\n",
              "  </tbody>\n",
              "</table>\n",
              "<p>5 rows × 209 columns</p>\n",
              "</div>"
            ],
            "text/plain": [
              "   values  MaxEStateIndex  MinEStateIndex  MaxAbsEStateIndex  \\\n",
              "0       1       10.467731       -4.487461          10.467731   \n",
              "1       1        9.163315       -4.433800           9.163315   \n",
              "2       1       16.630408       -8.173020          16.630408   \n",
              "3       1       16.153679       -4.142295          16.153679   \n",
              "4       1        9.531285       -5.872222           9.531285   \n",
              "\n",
              "   MinAbsEStateIndex       qed    MolWt  HeavyAtomMolWt  ExactMolWt  \\\n",
              "0           1.696759  0.424095  126.004         122.980  125.971810   \n",
              "1           0.008726  0.937072  307.441         282.241  307.204848   \n",
              "2           2.011766  0.237873  733.937         666.401  733.461241   \n",
              "3           0.117580  0.730424  389.387         369.227  389.149932   \n",
              "4           1.499618  0.164624  496.558         456.238  496.274444   \n",
              "\n",
              "   NumValenceElectrons  ...  fr_sulfide  fr_sulfonamd  fr_sulfone  \\\n",
              "0                   42  ...           0             0           0   \n",
              "1                  120  ...           0             0           0   \n",
              "2                  298  ...           0             0           0   \n",
              "3                  148  ...           0             0           0   \n",
              "4                  200  ...           0             0           0   \n",
              "\n",
              "   fr_term_acetylene  fr_tetrazole  fr_thiazole  fr_thiocyan  fr_thiophene  \\\n",
              "0                  0             0            0            0             0   \n",
              "1                  0             0            0            0             0   \n",
              "2                  0             0            0            0             0   \n",
              "3                  0             0            0            0             0   \n",
              "4                  0             0            0            0             0   \n",
              "\n",
              "   fr_unbrch_alkane  fr_urea  \n",
              "0                 0        0  \n",
              "1                 0        0  \n",
              "2                 0        0  \n",
              "3                 0        0  \n",
              "4                 0        0  \n",
              "\n",
              "[5 rows x 209 columns]"
            ]
          },
          "execution_count": 7,
          "metadata": {},
          "output_type": "execute_result"
        }
      ],
      "source": [
        "df.head()"
      ]
    },
    {
      "cell_type": "code",
      "execution_count": 8,
      "metadata": {
        "colab": {
          "base_uri": "https://localhost:8080/"
        },
        "id": "OEC4KE24jHpL",
        "outputId": "ebb56426-3071-4905-ef25-ba30f0237c32"
      },
      "outputs": [
        {
          "data": {
            "text/plain": [
              "4089"
            ]
          },
          "execution_count": 8,
          "metadata": {},
          "output_type": "execute_result"
        }
      ],
      "source": [
        "df.isnull().sum().sum()"
      ]
    },
    {
      "cell_type": "code",
      "execution_count": 9,
      "metadata": {
        "id": "5KH5Dv-PXX5E"
      },
      "outputs": [],
      "source": [
        "column_num = []\n",
        "column_bool = []\n",
        "for column in df.columns:\n",
        "  column_type = df[column].dtype\n",
        "  if column_type == 'object':\n",
        "      pass\n",
        "  elif column_type =='bool':\n",
        "      column_bool.append(column)\n",
        "  else:\n",
        "      column_num.append(column)"
      ]
    },
    {
      "cell_type": "code",
      "execution_count": 10,
      "metadata": {
        "colab": {
          "base_uri": "https://localhost:8080/"
        },
        "id": "UUCYwE7aUMoW",
        "outputId": "a6415f42-7882-4d36-aff2-357193690dfb"
      },
      "outputs": [
        {
          "data": {
            "text/plain": [
              "209"
            ]
          },
          "execution_count": 10,
          "metadata": {},
          "output_type": "execute_result"
        }
      ],
      "source": [
        "len(column_num)"
      ]
    },
    {
      "cell_type": "code",
      "execution_count": 11,
      "metadata": {
        "colab": {
          "base_uri": "https://localhost:8080/"
        },
        "id": "-fD3pL_xUT-H",
        "outputId": "3a7d9ab8-7fa3-454f-d442-6612c5869dd7"
      },
      "outputs": [
        {
          "data": {
            "text/plain": [
              "[]"
            ]
          },
          "execution_count": 11,
          "metadata": {},
          "output_type": "execute_result"
        }
      ],
      "source": [
        "column_bool"
      ]
    },
    {
      "cell_type": "code",
      "execution_count": 12,
      "metadata": {
        "colab": {
          "base_uri": "https://localhost:8080/"
        },
        "id": "T0mCBAY0iMPE",
        "outputId": "cd591284-b3d6-4186-9d7a-2f0784cabd40"
      },
      "outputs": [
        {
          "name": "stdout",
          "output_type": "stream",
          "text": [
            "0\n"
          ]
        }
      ],
      "source": [
        "# prompt: remove null values data.isnull().sum().sum()\n",
        "\n",
        "# Remove rows with any null values\n",
        "data = df.dropna()\n",
        "\n",
        "#Verify that there are no more null values\n",
        "print(data.isnull().sum().sum())\n"
      ]
    },
    {
      "cell_type": "code",
      "execution_count": 13,
      "metadata": {},
      "outputs": [
        {
          "data": {
            "text/plain": [
              "0"
            ]
          },
          "execution_count": 13,
          "metadata": {},
          "output_type": "execute_result"
        }
      ],
      "source": [
        "data.isnull().sum().sum()"
      ]
    },
    {
      "cell_type": "code",
      "execution_count": 14,
      "metadata": {
        "colab": {
          "base_uri": "https://localhost:8080/"
        },
        "id": "vQIA0tQ7iTbY",
        "outputId": "1db01ad8-a74c-462c-a4c0-82cfcd365aed"
      },
      "outputs": [
        {
          "data": {
            "text/plain": [
              "(14840, 209)"
            ]
          },
          "execution_count": 14,
          "metadata": {},
          "output_type": "execute_result"
        }
      ],
      "source": [
        "data.shape"
      ]
    },
    {
      "cell_type": "code",
      "execution_count": 15,
      "metadata": {
        "id": "ujXS1gGh3791"
      },
      "outputs": [],
      "source": [
        "# To calclulate  Correlation and remove highly  correlated columns\n",
        "def correlation(dataset, threshold):\n",
        "    col_corr = set()  # Set of all the names of correlated columns\n",
        "    corr_matrix = dataset.corr()\n",
        "    for i in range(len(corr_matrix.columns)):\n",
        "        for j in range(i):\n",
        "            if abs(corr_matrix.iloc[i, j]) > threshold: # we are interested in absolute coeff value\n",
        "                colname = corr_matrix.columns[i]  # getting the name of column\n",
        "                col_corr.add(colname)\n",
        "    return col_corr"
      ]
    },
    {
      "cell_type": "code",
      "execution_count": 16,
      "metadata": {
        "colab": {
          "base_uri": "https://localhost:8080/"
        },
        "id": "Z0qEXHW3iVMA",
        "outputId": "135dfbd9-b9e0-4cee-b753-e6c956f801bd"
      },
      "outputs": [
        {
          "name": "stdout",
          "output_type": "stream",
          "text": [
            "No. of features to drop :  68\n"
          ]
        },
        {
          "name": "stderr",
          "output_type": "stream",
          "text": [
            "C:\\Users\\saturn\\AppData\\Local\\Temp\\ipykernel_888\\3426440214.py:5: SettingWithCopyWarning: \n",
            "A value is trying to be set on a copy of a slice from a DataFrame\n",
            "\n",
            "See the caveats in the documentation: https://pandas.pydata.org/pandas-docs/stable/user_guide/indexing.html#returning-a-view-versus-a-copy\n",
            "  data.drop(corr_features,axis=1,inplace=True)\n"
          ]
        }
      ],
      "source": [
        "# Dropping highly correlated Features\n",
        "corr_features = correlation(data, 0.80)\n",
        "print(\"No. of features to drop : \",len(set(corr_features)))\n",
        "\n",
        "data.drop(corr_features,axis=1,inplace=True)"
      ]
    },
    {
      "cell_type": "code",
      "execution_count": 17,
      "metadata": {
        "colab": {
          "base_uri": "https://localhost:8080/"
        },
        "id": "Z5C3U5KlTjsU",
        "outputId": "57bcc826-c038-48e8-dbe1-6025fe72ab6e"
      },
      "outputs": [
        {
          "data": {
            "text/plain": [
              "(14840, 141)"
            ]
          },
          "execution_count": 17,
          "metadata": {},
          "output_type": "execute_result"
        }
      ],
      "source": [
        "data.shape"
      ]
    },
    {
      "cell_type": "code",
      "execution_count": 18,
      "metadata": {
        "colab": {
          "base_uri": "https://localhost:8080/",
          "height": 261
        },
        "id": "3tIXmGQs2hdf",
        "outputId": "c371ff37-02d7-4ded-bc15-89cd43255114"
      },
      "outputs": [
        {
          "data": {
            "text/html": [
              "<div>\n",
              "<style scoped>\n",
              "    .dataframe tbody tr th:only-of-type {\n",
              "        vertical-align: middle;\n",
              "    }\n",
              "\n",
              "    .dataframe tbody tr th {\n",
              "        vertical-align: top;\n",
              "    }\n",
              "\n",
              "    .dataframe thead th {\n",
              "        text-align: right;\n",
              "    }\n",
              "</style>\n",
              "<table border=\"1\" class=\"dataframe\">\n",
              "  <thead>\n",
              "    <tr style=\"text-align: right;\">\n",
              "      <th></th>\n",
              "      <th>values</th>\n",
              "      <th>MaxEStateIndex</th>\n",
              "      <th>MinEStateIndex</th>\n",
              "      <th>MinAbsEStateIndex</th>\n",
              "      <th>qed</th>\n",
              "      <th>MolWt</th>\n",
              "      <th>NumRadicalElectrons</th>\n",
              "      <th>MaxPartialCharge</th>\n",
              "      <th>MinPartialCharge</th>\n",
              "      <th>FpDensityMorgan1</th>\n",
              "      <th>...</th>\n",
              "      <th>fr_sulfide</th>\n",
              "      <th>fr_sulfonamd</th>\n",
              "      <th>fr_sulfone</th>\n",
              "      <th>fr_term_acetylene</th>\n",
              "      <th>fr_tetrazole</th>\n",
              "      <th>fr_thiazole</th>\n",
              "      <th>fr_thiocyan</th>\n",
              "      <th>fr_thiophene</th>\n",
              "      <th>fr_unbrch_alkane</th>\n",
              "      <th>fr_urea</th>\n",
              "    </tr>\n",
              "  </thead>\n",
              "  <tbody>\n",
              "    <tr>\n",
              "      <th>0</th>\n",
              "      <td>1</td>\n",
              "      <td>10.467731</td>\n",
              "      <td>-4.487461</td>\n",
              "      <td>1.696759</td>\n",
              "      <td>0.424095</td>\n",
              "      <td>126.004</td>\n",
              "      <td>0</td>\n",
              "      <td>0.432622</td>\n",
              "      <td>-0.472198</td>\n",
              "      <td>1.714286</td>\n",
              "      <td>...</td>\n",
              "      <td>0</td>\n",
              "      <td>0</td>\n",
              "      <td>0</td>\n",
              "      <td>0</td>\n",
              "      <td>0</td>\n",
              "      <td>0</td>\n",
              "      <td>0</td>\n",
              "      <td>0</td>\n",
              "      <td>0</td>\n",
              "      <td>0</td>\n",
              "    </tr>\n",
              "    <tr>\n",
              "      <th>1</th>\n",
              "      <td>1</td>\n",
              "      <td>9.163315</td>\n",
              "      <td>-4.433800</td>\n",
              "      <td>0.008726</td>\n",
              "      <td>0.937072</td>\n",
              "      <td>307.441</td>\n",
              "      <td>0</td>\n",
              "      <td>0.118715</td>\n",
              "      <td>-0.326392</td>\n",
              "      <td>1.260870</td>\n",
              "      <td>...</td>\n",
              "      <td>0</td>\n",
              "      <td>0</td>\n",
              "      <td>0</td>\n",
              "      <td>0</td>\n",
              "      <td>0</td>\n",
              "      <td>0</td>\n",
              "      <td>0</td>\n",
              "      <td>0</td>\n",
              "      <td>0</td>\n",
              "      <td>0</td>\n",
              "    </tr>\n",
              "    <tr>\n",
              "      <th>2</th>\n",
              "      <td>1</td>\n",
              "      <td>16.630408</td>\n",
              "      <td>-8.173020</td>\n",
              "      <td>2.011766</td>\n",
              "      <td>0.237873</td>\n",
              "      <td>733.937</td>\n",
              "      <td>0</td>\n",
              "      <td>0.311188</td>\n",
              "      <td>-0.458937</td>\n",
              "      <td>1.000000</td>\n",
              "      <td>...</td>\n",
              "      <td>0</td>\n",
              "      <td>0</td>\n",
              "      <td>0</td>\n",
              "      <td>0</td>\n",
              "      <td>0</td>\n",
              "      <td>0</td>\n",
              "      <td>0</td>\n",
              "      <td>0</td>\n",
              "      <td>0</td>\n",
              "      <td>0</td>\n",
              "    </tr>\n",
              "    <tr>\n",
              "      <th>3</th>\n",
              "      <td>1</td>\n",
              "      <td>16.153679</td>\n",
              "      <td>-4.142295</td>\n",
              "      <td>0.117580</td>\n",
              "      <td>0.730424</td>\n",
              "      <td>389.387</td>\n",
              "      <td>0</td>\n",
              "      <td>0.340725</td>\n",
              "      <td>-0.477497</td>\n",
              "      <td>1.785714</td>\n",
              "      <td>...</td>\n",
              "      <td>0</td>\n",
              "      <td>0</td>\n",
              "      <td>0</td>\n",
              "      <td>0</td>\n",
              "      <td>0</td>\n",
              "      <td>0</td>\n",
              "      <td>0</td>\n",
              "      <td>0</td>\n",
              "      <td>0</td>\n",
              "      <td>0</td>\n",
              "    </tr>\n",
              "    <tr>\n",
              "      <th>4</th>\n",
              "      <td>1</td>\n",
              "      <td>9.531285</td>\n",
              "      <td>-5.872222</td>\n",
              "      <td>1.499618</td>\n",
              "      <td>0.164624</td>\n",
              "      <td>496.558</td>\n",
              "      <td>0</td>\n",
              "      <td>0.211046</td>\n",
              "      <td>-0.390604</td>\n",
              "      <td>1.176471</td>\n",
              "      <td>...</td>\n",
              "      <td>0</td>\n",
              "      <td>0</td>\n",
              "      <td>0</td>\n",
              "      <td>0</td>\n",
              "      <td>0</td>\n",
              "      <td>0</td>\n",
              "      <td>0</td>\n",
              "      <td>0</td>\n",
              "      <td>0</td>\n",
              "      <td>0</td>\n",
              "    </tr>\n",
              "  </tbody>\n",
              "</table>\n",
              "<p>5 rows × 141 columns</p>\n",
              "</div>"
            ],
            "text/plain": [
              "   values  MaxEStateIndex  MinEStateIndex  MinAbsEStateIndex       qed  \\\n",
              "0       1       10.467731       -4.487461           1.696759  0.424095   \n",
              "1       1        9.163315       -4.433800           0.008726  0.937072   \n",
              "2       1       16.630408       -8.173020           2.011766  0.237873   \n",
              "3       1       16.153679       -4.142295           0.117580  0.730424   \n",
              "4       1        9.531285       -5.872222           1.499618  0.164624   \n",
              "\n",
              "     MolWt  NumRadicalElectrons  MaxPartialCharge  MinPartialCharge  \\\n",
              "0  126.004                    0          0.432622         -0.472198   \n",
              "1  307.441                    0          0.118715         -0.326392   \n",
              "2  733.937                    0          0.311188         -0.458937   \n",
              "3  389.387                    0          0.340725         -0.477497   \n",
              "4  496.558                    0          0.211046         -0.390604   \n",
              "\n",
              "   FpDensityMorgan1  ...  fr_sulfide  fr_sulfonamd  fr_sulfone  \\\n",
              "0          1.714286  ...           0             0           0   \n",
              "1          1.260870  ...           0             0           0   \n",
              "2          1.000000  ...           0             0           0   \n",
              "3          1.785714  ...           0             0           0   \n",
              "4          1.176471  ...           0             0           0   \n",
              "\n",
              "   fr_term_acetylene  fr_tetrazole  fr_thiazole  fr_thiocyan  fr_thiophene  \\\n",
              "0                  0             0            0            0             0   \n",
              "1                  0             0            0            0             0   \n",
              "2                  0             0            0            0             0   \n",
              "3                  0             0            0            0             0   \n",
              "4                  0             0            0            0             0   \n",
              "\n",
              "   fr_unbrch_alkane  fr_urea  \n",
              "0                 0        0  \n",
              "1                 0        0  \n",
              "2                 0        0  \n",
              "3                 0        0  \n",
              "4                 0        0  \n",
              "\n",
              "[5 rows x 141 columns]"
            ]
          },
          "execution_count": 18,
          "metadata": {},
          "output_type": "execute_result"
        }
      ],
      "source": [
        "data.head()"
      ]
    },
    {
      "cell_type": "code",
      "execution_count": 19,
      "metadata": {
        "colab": {
          "base_uri": "https://localhost:8080/"
        },
        "id": "9Oa61YDzbq2p",
        "outputId": "e14407d5-d651-4a93-e724-6674da90b9b9"
      },
      "outputs": [
        {
          "data": {
            "text/plain": [
              "(14840, 141)"
            ]
          },
          "execution_count": 19,
          "metadata": {},
          "output_type": "execute_result"
        }
      ],
      "source": [
        "data.shape"
      ]
    },
    {
      "cell_type": "code",
      "execution_count": 20,
      "metadata": {
        "colab": {
          "base_uri": "https://localhost:8080/"
        },
        "id": "d5hnMOVgc7MD",
        "outputId": "85b28c8a-4141-4b5f-9091-cc60c6ed6883"
      },
      "outputs": [
        {
          "data": {
            "text/plain": [
              "values\n",
              "1    8621\n",
              "0    6219\n",
              "Name: count, dtype: int64"
            ]
          },
          "execution_count": 20,
          "metadata": {},
          "output_type": "execute_result"
        }
      ],
      "source": [
        "data['values'].value_counts()"
      ]
    },
    {
      "cell_type": "code",
      "execution_count": 21,
      "metadata": {
        "colab": {
          "base_uri": "https://localhost:8080/",
          "height": 419
        },
        "id": "Fv6P2jDYdExz",
        "outputId": "2b97b89c-6ec0-4b9c-8ecc-173603911ecf"
      },
      "outputs": [
        {
          "name": "stderr",
          "output_type": "stream",
          "text": [
            "C:\\Users\\saturn\\AppData\\Local\\Temp\\ipykernel_888\\860550600.py:2: FutureWarning: \n",
            "\n",
            "Passing `palette` without assigning `hue` is deprecated and will be removed in v0.14.0. Assign the `x` variable to `hue` and set `legend=False` for the same effect.\n",
            "\n",
            "  sns.countplot(x=df[\"values\"], palette=\"coolwarm\")  # Replace \"target\" with actual column name\n"
          ]
        },
        {
          "data": {
            "image/png": "[encoded data removed]",
            "text/plain": [
              "<Figure size 500x400 with 1 Axes>"
            ]
          },
          "metadata": {},
          "output_type": "display_data"
        }
      ],
      "source": [
        "plt.figure(figsize=(5, 4))\n",
        "sns.countplot(x=df[\"values\"], palette=\"coolwarm\")  # Replace \"target\" with actual column name\n",
        "plt.title(\"Class Distribution\")\n",
        "plt.xlabel(\"Class (0 or 1)\")\n",
        "plt.ylabel(\"Count\")\n",
        "plt.show()"
      ]
    },
    {
      "cell_type": "code",
      "execution_count": 22,
      "metadata": {},
      "outputs": [
        {
          "name": "stdout",
          "output_type": "stream",
          "text": [
            "(12438, 140)\n",
            "(12438, 1)\n"
          ]
        }
      ],
      "source": [
        "#target class is in values column. it is not balanced. balance it using undersampling, by removing majority class samples \n",
        "from imblearn.under_sampling import RandomUnderSampler\n",
        "rus = RandomUnderSampler(random_state=42)\n",
        "X_resampled, y_resampled = rus.fit_resample(data.drop('values', axis=1), data['values'])\n",
        "# Combine the resampled features and target variable\n",
        "X_resampled = pd.DataFrame(X_resampled, columns=data.drop('values', axis=1).columns)\n",
        "y_resampled = pd.DataFrame(y_resampled, columns=['values'])\n",
        "\n",
        "# Print the shape of the resampled dataset\n",
        "print(X_resampled.shape)\n",
        "print(y_resampled.shape)"
      ]
    },
    {
      "cell_type": "code",
      "execution_count": 23,
      "metadata": {},
      "outputs": [
        {
          "name": "stderr",
          "output_type": "stream",
          "text": [
            "c:\\Users\\saturn\\miniconda3\\Lib\\site-packages\\sklearn\\utils\\extmath.py:1120: RuntimeWarning: overflow encountered in square\n",
            "  temp **= 2\n",
            "c:\\Users\\saturn\\miniconda3\\Lib\\site-packages\\sklearn\\utils\\extmath.py:1126: RuntimeWarning: overflow encountered in square\n",
            "  new_unnormalized_variance -= correction**2 / new_sample_count\n",
            "c:\\Users\\saturn\\miniconda3\\Lib\\site-packages\\sklearn\\utils\\extmath.py:1126: RuntimeWarning: invalid value encountered in subtract\n",
            "  new_unnormalized_variance -= correction**2 / new_sample_count\n",
            "c:\\Users\\saturn\\miniconda3\\Lib\\site-packages\\sklearn\\preprocessing\\_data.py:81: RuntimeWarning: overflow encountered in square\n",
            "  upper_bound = n_samples * eps * var + (n_samples * mean * eps) ** 2\n"
          ]
        }
      ],
      "source": [
        "#scale and then merge the data\n",
        "from sklearn.preprocessing import StandardScaler\n",
        "scaler = StandardScaler()\n",
        "X_resampled = pd.DataFrame(scaler.fit_transform(X_resampled), columns = X_resampled.columns)\n"
      ]
    },
    {
      "cell_type": "code",
      "execution_count": 28,
      "metadata": {},
      "outputs": [],
      "source": [
        "#reset the axis and then merge the data\n",
        "X_resampled.reset_index(drop=True, inplace=True)\n",
        "y_resampled.reset_index(drop=True, inplace=True)\n",
        "# Merge the features and target variable back into a single DataFrame\n",
        "resampled_data = pd.concat([X_resampled, y_resampled], axis=1)"
      ]
    },
    {
      "cell_type": "code",
      "execution_count": 29,
      "metadata": {},
      "outputs": [
        {
          "data": {
            "text/plain": [
              "(12438, 141)"
            ]
          },
          "execution_count": 29,
          "metadata": {},
          "output_type": "execute_result"
        }
      ],
      "source": [
        "resampled_data.shape"
      ]
    },
    {
      "cell_type": "code",
      "execution_count": 30,
      "metadata": {},
      "outputs": [
        {
          "data": {
            "text/html": [
              "<div>\n",
              "<style scoped>\n",
              "    .dataframe tbody tr th:only-of-type {\n",
              "        vertical-align: middle;\n",
              "    }\n",
              "\n",
              "    .dataframe tbody tr th {\n",
              "        vertical-align: top;\n",
              "    }\n",
              "\n",
              "    .dataframe thead th {\n",
              "        text-align: right;\n",
              "    }\n",
              "</style>\n",
              "<table border=\"1\" class=\"dataframe\">\n",
              "  <thead>\n",
              "    <tr style=\"text-align: right;\">\n",
              "      <th></th>\n",
              "      <th>MaxEStateIndex</th>\n",
              "      <th>MinEStateIndex</th>\n",
              "      <th>MinAbsEStateIndex</th>\n",
              "      <th>qed</th>\n",
              "      <th>MolWt</th>\n",
              "      <th>NumRadicalElectrons</th>\n",
              "      <th>MaxPartialCharge</th>\n",
              "      <th>MinPartialCharge</th>\n",
              "      <th>FpDensityMorgan1</th>\n",
              "      <th>BCUT2D_MWHI</th>\n",
              "      <th>...</th>\n",
              "      <th>fr_sulfonamd</th>\n",
              "      <th>fr_sulfone</th>\n",
              "      <th>fr_term_acetylene</th>\n",
              "      <th>fr_tetrazole</th>\n",
              "      <th>fr_thiazole</th>\n",
              "      <th>fr_thiocyan</th>\n",
              "      <th>fr_thiophene</th>\n",
              "      <th>fr_unbrch_alkane</th>\n",
              "      <th>fr_urea</th>\n",
              "      <th>values</th>\n",
              "    </tr>\n",
              "  </thead>\n",
              "  <tbody>\n",
              "    <tr>\n",
              "      <th>12433</th>\n",
              "      <td>1.400509</td>\n",
              "      <td>-0.014708</td>\n",
              "      <td>-0.090990</td>\n",
              "      <td>0.369284</td>\n",
              "      <td>0.414683</td>\n",
              "      <td>-0.015532</td>\n",
              "      <td>0.684565</td>\n",
              "      <td>-0.503137</td>\n",
              "      <td>-0.012471</td>\n",
              "      <td>0.438710</td>\n",
              "      <td>...</td>\n",
              "      <td>-0.308899</td>\n",
              "      <td>-0.142038</td>\n",
              "      <td>-0.075799</td>\n",
              "      <td>-0.099541</td>\n",
              "      <td>-0.199179</td>\n",
              "      <td>0.0</td>\n",
              "      <td>-0.149922</td>\n",
              "      <td>0.0</td>\n",
              "      <td>-0.224855</td>\n",
              "      <td>1</td>\n",
              "    </tr>\n",
              "    <tr>\n",
              "      <th>12434</th>\n",
              "      <td>0.326244</td>\n",
              "      <td>-1.123400</td>\n",
              "      <td>0.052508</td>\n",
              "      <td>0.702687</td>\n",
              "      <td>0.387262</td>\n",
              "      <td>-0.015532</td>\n",
              "      <td>1.785026</td>\n",
              "      <td>0.796020</td>\n",
              "      <td>-0.593116</td>\n",
              "      <td>0.868409</td>\n",
              "      <td>...</td>\n",
              "      <td>-0.308899</td>\n",
              "      <td>6.450022</td>\n",
              "      <td>-0.075799</td>\n",
              "      <td>-0.099541</td>\n",
              "      <td>-0.199179</td>\n",
              "      <td>0.0</td>\n",
              "      <td>-0.149922</td>\n",
              "      <td>0.0</td>\n",
              "      <td>-0.224855</td>\n",
              "      <td>1</td>\n",
              "    </tr>\n",
              "    <tr>\n",
              "      <th>12435</th>\n",
              "      <td>-0.253253</td>\n",
              "      <td>1.049610</td>\n",
              "      <td>-0.719849</td>\n",
              "      <td>0.988620</td>\n",
              "      <td>-0.896486</td>\n",
              "      <td>-0.015532</td>\n",
              "      <td>-0.457522</td>\n",
              "      <td>0.984037</td>\n",
              "      <td>0.294846</td>\n",
              "      <td>0.608987</td>\n",
              "      <td>...</td>\n",
              "      <td>-0.308899</td>\n",
              "      <td>-0.142038</td>\n",
              "      <td>-0.075799</td>\n",
              "      <td>-0.099541</td>\n",
              "      <td>-0.199179</td>\n",
              "      <td>0.0</td>\n",
              "      <td>-0.149922</td>\n",
              "      <td>0.0</td>\n",
              "      <td>-0.224855</td>\n",
              "      <td>1</td>\n",
              "    </tr>\n",
              "    <tr>\n",
              "      <th>12436</th>\n",
              "      <td>1.069144</td>\n",
              "      <td>0.092805</td>\n",
              "      <td>0.042475</td>\n",
              "      <td>1.156355</td>\n",
              "      <td>-0.366746</td>\n",
              "      <td>-0.015532</td>\n",
              "      <td>-1.273851</td>\n",
              "      <td>1.930254</td>\n",
              "      <td>-0.363690</td>\n",
              "      <td>-1.490621</td>\n",
              "      <td>...</td>\n",
              "      <td>-0.308899</td>\n",
              "      <td>-0.142038</td>\n",
              "      <td>-0.075799</td>\n",
              "      <td>-0.099541</td>\n",
              "      <td>-0.199179</td>\n",
              "      <td>0.0</td>\n",
              "      <td>-0.149922</td>\n",
              "      <td>0.0</td>\n",
              "      <td>-0.224855</td>\n",
              "      <td>1</td>\n",
              "    </tr>\n",
              "    <tr>\n",
              "      <th>12437</th>\n",
              "      <td>-1.529267</td>\n",
              "      <td>0.080344</td>\n",
              "      <td>-0.737893</td>\n",
              "      <td>-0.119069</td>\n",
              "      <td>-0.156009</td>\n",
              "      <td>-0.015532</td>\n",
              "      <td>-2.198242</td>\n",
              "      <td>-0.742324</td>\n",
              "      <td>-0.831982</td>\n",
              "      <td>0.401065</td>\n",
              "      <td>...</td>\n",
              "      <td>-0.308899</td>\n",
              "      <td>-0.142038</td>\n",
              "      <td>-0.075799</td>\n",
              "      <td>-0.099541</td>\n",
              "      <td>-0.199179</td>\n",
              "      <td>0.0</td>\n",
              "      <td>-0.149922</td>\n",
              "      <td>0.0</td>\n",
              "      <td>-0.224855</td>\n",
              "      <td>1</td>\n",
              "    </tr>\n",
              "  </tbody>\n",
              "</table>\n",
              "<p>5 rows × 141 columns</p>\n",
              "</div>"
            ],
            "text/plain": [
              "       MaxEStateIndex  MinEStateIndex  MinAbsEStateIndex       qed     MolWt  \\\n",
              "12433        1.400509       -0.014708          -0.090990  0.369284  0.414683   \n",
              "12434        0.326244       -1.123400           0.052508  0.702687  0.387262   \n",
              "12435       -0.253253        1.049610          -0.719849  0.988620 -0.896486   \n",
              "12436        1.069144        0.092805           0.042475  1.156355 -0.366746   \n",
              "12437       -1.529267        0.080344          -0.737893 -0.119069 -0.156009   \n",
              "\n",
              "       NumRadicalElectrons  MaxPartialCharge  MinPartialCharge  \\\n",
              "12433            -0.015532          0.684565         -0.503137   \n",
              "12434            -0.015532          1.785026          0.796020   \n",
              "12435            -0.015532         -0.457522          0.984037   \n",
              "12436            -0.015532         -1.273851          1.930254   \n",
              "12437            -0.015532         -2.198242         -0.742324   \n",
              "\n",
              "       FpDensityMorgan1  BCUT2D_MWHI  ...  fr_sulfonamd  fr_sulfone  \\\n",
              "12433         -0.012471     0.438710  ...     -0.308899   -0.142038   \n",
              "12434         -0.593116     0.868409  ...     -0.308899    6.450022   \n",
              "12435          0.294846     0.608987  ...     -0.308899   -0.142038   \n",
              "12436         -0.363690    -1.490621  ...     -0.308899   -0.142038   \n",
              "12437         -0.831982     0.401065  ...     -0.308899   -0.142038   \n",
              "\n",
              "       fr_term_acetylene  fr_tetrazole  fr_thiazole  fr_thiocyan  \\\n",
              "12433          -0.075799     -0.099541    -0.199179          0.0   \n",
              "12434          -0.075799     -0.099541    -0.199179          0.0   \n",
              "12435          -0.075799     -0.099541    -0.199179          0.0   \n",
              "12436          -0.075799     -0.099541    -0.199179          0.0   \n",
              "12437          -0.075799     -0.099541    -0.199179          0.0   \n",
              "\n",
              "       fr_thiophene  fr_unbrch_alkane   fr_urea  values  \n",
              "12433     -0.149922               0.0 -0.224855       1  \n",
              "12434     -0.149922               0.0 -0.224855       1  \n",
              "12435     -0.149922               0.0 -0.224855       1  \n",
              "12436     -0.149922               0.0 -0.224855       1  \n",
              "12437     -0.149922               0.0 -0.224855       1  \n",
              "\n",
              "[5 rows x 141 columns]"
            ]
          },
          "execution_count": 30,
          "metadata": {},
          "output_type": "execute_result"
        }
      ],
      "source": [
        "resampled_data.tail()"
      ]
    },
    {
      "cell_type": "code",
      "execution_count": 31,
      "metadata": {},
      "outputs": [
        {
          "data": {
            "text/plain": [
              "values\n",
              "0    6219\n",
              "1    6219\n",
              "Name: count, dtype: int64"
            ]
          },
          "execution_count": 31,
          "metadata": {},
          "output_type": "execute_result"
        }
      ],
      "source": [
        "resampled_data['values'].value_counts()"
      ]
    },
    {
      "cell_type": "code",
      "execution_count": 40,
      "metadata": {
        "colab": {
          "base_uri": "https://localhost:8080/",
          "height": 226
        },
        "id": "R4Y415zeTpJ6",
        "outputId": "0c6e7a4f-490c-44ba-8f6c-1b27ee39b1c5"
      },
      "outputs": [
        {
          "data": {
            "text/html": [
              "<div>\n",
              "<style scoped>\n",
              "    .dataframe tbody tr th:only-of-type {\n",
              "        vertical-align: middle;\n",
              "    }\n",
              "\n",
              "    .dataframe tbody tr th {\n",
              "        vertical-align: top;\n",
              "    }\n",
              "\n",
              "    .dataframe thead th {\n",
              "        text-align: right;\n",
              "    }\n",
              "</style>\n",
              "<table border=\"1\" class=\"dataframe\">\n",
              "  <thead>\n",
              "    <tr style=\"text-align: right;\">\n",
              "      <th></th>\n",
              "      <th>MaxEStateIndex</th>\n",
              "      <th>MinEStateIndex</th>\n",
              "      <th>MinAbsEStateIndex</th>\n",
              "      <th>qed</th>\n",
              "      <th>MolWt</th>\n",
              "      <th>NumRadicalElectrons</th>\n",
              "      <th>MaxPartialCharge</th>\n",
              "      <th>MinPartialCharge</th>\n",
              "      <th>FpDensityMorgan1</th>\n",
              "      <th>BCUT2D_MWHI</th>\n",
              "      <th>...</th>\n",
              "      <th>fr_sulfonamd</th>\n",
              "      <th>fr_sulfone</th>\n",
              "      <th>fr_term_acetylene</th>\n",
              "      <th>fr_tetrazole</th>\n",
              "      <th>fr_thiazole</th>\n",
              "      <th>fr_thiocyan</th>\n",
              "      <th>fr_thiophene</th>\n",
              "      <th>fr_unbrch_alkane</th>\n",
              "      <th>fr_urea</th>\n",
              "      <th>values</th>\n",
              "    </tr>\n",
              "  </thead>\n",
              "  <tbody>\n",
              "    <tr>\n",
              "      <th>0</th>\n",
              "      <td>-1.975097</td>\n",
              "      <td>0.773038</td>\n",
              "      <td>0.118199</td>\n",
              "      <td>-0.550435</td>\n",
              "      <td>-1.138219</td>\n",
              "      <td>-0.015532</td>\n",
              "      <td>0.539971</td>\n",
              "      <td>0.326962</td>\n",
              "      <td>0.777772</td>\n",
              "      <td>-1.490621</td>\n",
              "      <td>...</td>\n",
              "      <td>-0.308899</td>\n",
              "      <td>-0.142038</td>\n",
              "      <td>-0.075799</td>\n",
              "      <td>-0.099541</td>\n",
              "      <td>-0.199179</td>\n",
              "      <td>0.0</td>\n",
              "      <td>-0.149922</td>\n",
              "      <td>0.0</td>\n",
              "      <td>-0.224855</td>\n",
              "      <td>0</td>\n",
              "    </tr>\n",
              "    <tr>\n",
              "      <th>1</th>\n",
              "      <td>-0.390049</td>\n",
              "      <td>0.809107</td>\n",
              "      <td>0.453472</td>\n",
              "      <td>-0.292014</td>\n",
              "      <td>-0.214500</td>\n",
              "      <td>-0.015532</td>\n",
              "      <td>0.254125</td>\n",
              "      <td>0.126925</td>\n",
              "      <td>-1.822600</td>\n",
              "      <td>0.590589</td>\n",
              "      <td>...</td>\n",
              "      <td>-0.308899</td>\n",
              "      <td>-0.142038</td>\n",
              "      <td>-0.075799</td>\n",
              "      <td>-0.099541</td>\n",
              "      <td>-0.199179</td>\n",
              "      <td>0.0</td>\n",
              "      <td>-0.149922</td>\n",
              "      <td>0.0</td>\n",
              "      <td>-0.224855</td>\n",
              "      <td>0</td>\n",
              "    </tr>\n",
              "    <tr>\n",
              "      <th>2</th>\n",
              "      <td>0.663835</td>\n",
              "      <td>-1.687523</td>\n",
              "      <td>-0.327387</td>\n",
              "      <td>0.235800</td>\n",
              "      <td>0.559670</td>\n",
              "      <td>-0.015532</td>\n",
              "      <td>-0.335973</td>\n",
              "      <td>0.591009</td>\n",
              "      <td>0.170665</td>\n",
              "      <td>0.560570</td>\n",
              "      <td>...</td>\n",
              "      <td>2.721141</td>\n",
              "      <td>-0.142038</td>\n",
              "      <td>-0.075799</td>\n",
              "      <td>-0.099541</td>\n",
              "      <td>-0.199179</td>\n",
              "      <td>0.0</td>\n",
              "      <td>-0.149922</td>\n",
              "      <td>0.0</td>\n",
              "      <td>-0.224855</td>\n",
              "      <td>0</td>\n",
              "    </tr>\n",
              "    <tr>\n",
              "      <th>3</th>\n",
              "      <td>0.895697</td>\n",
              "      <td>-1.919856</td>\n",
              "      <td>1.275505</td>\n",
              "      <td>-0.025907</td>\n",
              "      <td>0.802153</td>\n",
              "      <td>-0.015532</td>\n",
              "      <td>-0.535933</td>\n",
              "      <td>-0.741751</td>\n",
              "      <td>0.142343</td>\n",
              "      <td>0.404018</td>\n",
              "      <td>...</td>\n",
              "      <td>5.751182</td>\n",
              "      <td>-0.142038</td>\n",
              "      <td>-0.075799</td>\n",
              "      <td>-0.099541</td>\n",
              "      <td>-0.199179</td>\n",
              "      <td>0.0</td>\n",
              "      <td>-0.149922</td>\n",
              "      <td>0.0</td>\n",
              "      <td>-0.224855</td>\n",
              "      <td>0</td>\n",
              "    </tr>\n",
              "    <tr>\n",
              "      <th>4</th>\n",
              "      <td>-0.201355</td>\n",
              "      <td>0.071728</td>\n",
              "      <td>0.204196</td>\n",
              "      <td>-0.158287</td>\n",
              "      <td>-0.693134</td>\n",
              "      <td>-0.015532</td>\n",
              "      <td>0.273600</td>\n",
              "      <td>0.721944</td>\n",
              "      <td>0.133870</td>\n",
              "      <td>-1.490621</td>\n",
              "      <td>...</td>\n",
              "      <td>-0.308899</td>\n",
              "      <td>-0.142038</td>\n",
              "      <td>-0.075799</td>\n",
              "      <td>-0.099541</td>\n",
              "      <td>-0.199179</td>\n",
              "      <td>0.0</td>\n",
              "      <td>-0.149922</td>\n",
              "      <td>0.0</td>\n",
              "      <td>-0.224855</td>\n",
              "      <td>0</td>\n",
              "    </tr>\n",
              "  </tbody>\n",
              "</table>\n",
              "<p>5 rows × 141 columns</p>\n",
              "</div>"
            ],
            "text/plain": [
              "   MaxEStateIndex  MinEStateIndex  MinAbsEStateIndex       qed     MolWt  \\\n",
              "0       -1.975097        0.773038           0.118199 -0.550435 -1.138219   \n",
              "1       -0.390049        0.809107           0.453472 -0.292014 -0.214500   \n",
              "2        0.663835       -1.687523          -0.327387  0.235800  0.559670   \n",
              "3        0.895697       -1.919856           1.275505 -0.025907  0.802153   \n",
              "4       -0.201355        0.071728           0.204196 -0.158287 -0.693134   \n",
              "\n",
              "   NumRadicalElectrons  MaxPartialCharge  MinPartialCharge  FpDensityMorgan1  \\\n",
              "0            -0.015532          0.539971          0.326962          0.777772   \n",
              "1            -0.015532          0.254125          0.126925         -1.822600   \n",
              "2            -0.015532         -0.335973          0.591009          0.170665   \n",
              "3            -0.015532         -0.535933         -0.741751          0.142343   \n",
              "4            -0.015532          0.273600          0.721944          0.133870   \n",
              "\n",
              "   BCUT2D_MWHI  ...  fr_sulfonamd  fr_sulfone  fr_term_acetylene  \\\n",
              "0    -1.490621  ...     -0.308899   -0.142038          -0.075799   \n",
              "1     0.590589  ...     -0.308899   -0.142038          -0.075799   \n",
              "2     0.560570  ...      2.721141   -0.142038          -0.075799   \n",
              "3     0.404018  ...      5.751182   -0.142038          -0.075799   \n",
              "4    -1.490621  ...     -0.308899   -0.142038          -0.075799   \n",
              "\n",
              "   fr_tetrazole  fr_thiazole  fr_thiocyan  fr_thiophene  fr_unbrch_alkane  \\\n",
              "0     -0.099541    -0.199179          0.0     -0.149922               0.0   \n",
              "1     -0.099541    -0.199179          0.0     -0.149922               0.0   \n",
              "2     -0.099541    -0.199179          0.0     -0.149922               0.0   \n",
              "3     -0.099541    -0.199179          0.0     -0.149922               0.0   \n",
              "4     -0.099541    -0.199179          0.0     -0.149922               0.0   \n",
              "\n",
              "    fr_urea  values  \n",
              "0 -0.224855       0  \n",
              "1 -0.224855       0  \n",
              "2 -0.224855       0  \n",
              "3 -0.224855       0  \n",
              "4 -0.224855       0  \n",
              "\n",
              "[5 rows x 141 columns]"
            ]
          },
          "execution_count": 40,
          "metadata": {},
          "output_type": "execute_result"
        }
      ],
      "source": [
        "resampled_data.head()"
      ]
    },
    {
      "cell_type": "code",
      "execution_count": 41,
      "metadata": {
        "colab": {
          "base_uri": "https://localhost:8080/",
          "height": 488
        },
        "id": "EDaGrlQcT8Lt",
        "outputId": "062fc170-352b-487c-89dc-aaf959a61612"
      },
      "outputs": [
        {
          "name": "stdout",
          "output_type": "stream",
          "text": [
            "values\n",
            "0    6219\n",
            "1    6219\n",
            "Name: count, dtype: int64\n"
          ]
        },
        {
          "name": "stderr",
          "output_type": "stream",
          "text": [
            "C:\\Users\\saturn\\AppData\\Local\\Temp\\ipykernel_888\\2852483286.py:12: FutureWarning: \n",
            "\n",
            "Passing `palette` without assigning `hue` is deprecated and will be removed in v0.14.0. Assign the `x` variable to `hue` and set `legend=False` for the same effect.\n",
            "\n",
            "  sns.countplot(x=resampled_data[\"values\"], palette=\"coolwarm\")\n"
          ]
        },
        {
          "data": {
            "image/png": "[encoded data removed]",
            "text/plain": [
              "<Figure size 500x400 with 1 Axes>"
            ]
          },
          "metadata": {},
          "output_type": "display_data"
        }
      ],
      "source": [
        "import matplotlib.pyplot as plt\n",
        "import seaborn as sns\n",
        "\n",
        "# Count each class and store in a variable\n",
        "class_counts = resampled_data['values'].value_counts()\n",
        "\n",
        "# Print the class counts\n",
        "print(class_counts)\n",
        "\n",
        "# Create a countplot\n",
        "plt.figure(figsize=(5, 4))\n",
        "sns.countplot(x=resampled_data[\"values\"], palette=\"coolwarm\")\n",
        "plt.title(\"Class Distribution\")\n",
        "plt.xlabel(\"Class\")\n",
        "plt.ylabel(\"Count\")\n",
        "plt.show()"
      ]
    },
    {
      "cell_type": "code",
      "execution_count": null,
      "metadata": {},
      "outputs": [],
      "source": [
        "# Save the DataFrame to a CSV file\n",
        "resampled_data.to_csv('RDkit-2D_scaled_data.csv', index=False)"
      ]
    }
  ],
  "metadata": {
    "accelerator": "GPU",
    "colab": {
      "gpuType": "T4",
      "provenance": []
    },
    "kernelspec": {
      "display_name": "base",
      "language": "python",
      "name": "python3"
    },
    "language_info": {
      "codemirror_mode": {
        "name": "ipython",
        "version": 3
      },
      "file_extension": ".py",
      "mimetype": "text/x-python",
      "name": "python",
      "nbconvert_exporter": "python",
      "pygments_lexer": "ipython3",
      "version": "3.11.5"
    }
  },
  "nbformat": 4,
  "nbformat_minor": 0
}
