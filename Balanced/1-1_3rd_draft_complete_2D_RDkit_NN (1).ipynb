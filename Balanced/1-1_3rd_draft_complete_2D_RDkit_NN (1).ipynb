{
  "nbformat": 4,
  "nbformat_minor": 0,
  "metadata": {
    "colab": {
      "provenance": [],
      "gpuType": "T4"
    },
    "kernelspec": {
      "name": "python3",
      "display_name": "Python 3"
    },
    "language_info": {
      "name": "python"
    },
    "accelerator": "GPU"
  },
  "cells": [
    {
      "cell_type": "markdown",
      "source": [
        "# **Data input 2D**"
      ],
      "metadata": {
        "id": "YEcDtP0achhX"
      }
    },
    {
      "cell_type": "code",
      "source": [
        "import pandas as pd\n",
        "import torch\n",
        "import torch.nn as nn\n",
        "import torch.optim as optim\n",
        "import pandas as pd\n",
        "import numpy as np\n",
        "from sklearn.model_selection import train_test_split\n",
        "from sklearn.preprocessing import StandardScaler\n",
        "from sklearn.metrics import accuracy_score, precision_score, recall_score, f1_score, roc_auc_score, confusion_matrix\n",
        "\n"
      ],
      "metadata": {
        "id": "PD7qVtokcsnn"
      },
      "execution_count": 1,
      "outputs": []
    },
    {
      "cell_type": "code",
      "execution_count": 2,
      "metadata": {
        "id": "qVxKzKdfcsnn"
      },
      "outputs": [],
      "source": [
        "df1 = pd.read_csv(\"1-RDkit-2D_scal_aug_data.csv\")"
      ]
    },
    {
      "cell_type": "code",
      "source": [
        "df1.head()"
      ],
      "metadata": {
        "colab": {
          "base_uri": "https://localhost:8080/",
          "height": 256
        },
        "outputId": "c5752145-5af9-4fc3-cd47-f6417fca2329",
        "id": "2d_ffeVkcsnn"
      },
      "execution_count": null,
      "outputs": [
        {
          "output_type": "execute_result",
          "data": {
            "text/plain": [
              "   MaxEStateIndex  MinEStateIndex  MinAbsEStateIndex       qed     MolWt  \\\n",
              "0       -1.087494        0.184938           1.355860 -0.492646 -1.397166   \n",
              "1       -1.620405        0.222410          -1.098739  1.870766 -0.478515   \n",
              "2        1.430229       -2.388664           1.813916 -1.350621  1.680917   \n",
              "3        1.235464        0.425966          -0.940453  0.918686 -0.063607   \n",
              "4       -1.470073       -0.782032           1.069193 -1.688096  0.479021   \n",
              "\n",
              "   NumRadicalElectrons  MaxPartialCharge  MinPartialCharge  FpDensityMorgan1  \\\n",
              "0             -0.01309          1.990064         -0.450123          0.934959   \n",
              "1             -0.01309         -2.271368          1.445307         -0.431758   \n",
              "2             -0.01309          0.341549         -0.277731         -1.218088   \n",
              "3             -0.01309          0.742523         -0.519010          1.150263   \n",
              "4             -0.01309         -1.017933          0.610565         -0.686159   \n",
              "\n",
              "   BCUT2D_MWHI  ...  fr_sulfonamd  fr_sulfone  fr_term_acetylene  \\\n",
              "0     1.514625  ...     -0.353118   -0.132878          -0.071864   \n",
              "1    -1.425608  ...     -0.353118   -0.132878          -0.071864   \n",
              "2    -1.425608  ...     -0.353118   -0.132878          -0.071864   \n",
              "3     0.687203  ...     -0.353118   -0.132878          -0.071864   \n",
              "4    -1.425608  ...     -0.353118   -0.132878          -0.071864   \n",
              "\n",
              "   fr_tetrazole  fr_thiazole  fr_thiocyan  fr_thiophene  fr_unbrch_alkane  \\\n",
              "0      -0.09503    -0.190349    -0.006742     -0.139942               0.0   \n",
              "1      -0.09503    -0.190349    -0.006742     -0.139942               0.0   \n",
              "2      -0.09503    -0.190349    -0.006742     -0.139942               0.0   \n",
              "3      -0.09503    -0.190349    -0.006742     -0.139942               0.0   \n",
              "4      -0.09503    -0.190349    -0.006742     -0.139942               0.0   \n",
              "\n",
              "    fr_urea  values  \n",
              "0 -0.237666       1  \n",
              "1 -0.237666       1  \n",
              "2 -0.237666       1  \n",
              "3 -0.237666       1  \n",
              "4 -0.237666       1  \n",
              "\n",
              "[5 rows x 141 columns]"
            ],
            "text/html": [
              "\n",
              "  <div id=\"df-7ecac153-4cfe-4000-ad6a-79ad2ae123b5\" class=\"colab-df-container\">\n",
              "    <div>\n",
              "<style scoped>\n",
              "    .dataframe tbody tr th:only-of-type {\n",
              "        vertical-align: middle;\n",
              "    }\n",
              "\n",
              "    .dataframe tbody tr th {\n",
              "        vertical-align: top;\n",
              "    }\n",
              "\n",
              "    .dataframe thead th {\n",
              "        text-align: right;\n",
              "    }\n",
              "</style>\n",
              "<table border=\"1\" class=\"dataframe\">\n",
              "  <thead>\n",
              "    <tr style=\"text-align: right;\">\n",
              "      <th></th>\n",
              "      <th>MaxEStateIndex</th>\n",
              "      <th>MinEStateIndex</th>\n",
              "      <th>MinAbsEStateIndex</th>\n",
              "      <th>qed</th>\n",
              "      <th>MolWt</th>\n",
              "      <th>NumRadicalElectrons</th>\n",
              "      <th>MaxPartialCharge</th>\n",
              "      <th>MinPartialCharge</th>\n",
              "      <th>FpDensityMorgan1</th>\n",
              "      <th>BCUT2D_MWHI</th>\n",
              "      <th>...</th>\n",
              "      <th>fr_sulfonamd</th>\n",
              "      <th>fr_sulfone</th>\n",
              "      <th>fr_term_acetylene</th>\n",
              "      <th>fr_tetrazole</th>\n",
              "      <th>fr_thiazole</th>\n",
              "      <th>fr_thiocyan</th>\n",
              "      <th>fr_thiophene</th>\n",
              "      <th>fr_unbrch_alkane</th>\n",
              "      <th>fr_urea</th>\n",
              "      <th>values</th>\n",
              "    </tr>\n",
              "  </thead>\n",
              "  <tbody>\n",
              "    <tr>\n",
              "      <th>0</th>\n",
              "      <td>-1.087494</td>\n",
              "      <td>0.184938</td>\n",
              "      <td>1.355860</td>\n",
              "      <td>-0.492646</td>\n",
              "      <td>-1.397166</td>\n",
              "      <td>-0.01309</td>\n",
              "      <td>1.990064</td>\n",
              "      <td>-0.450123</td>\n",
              "      <td>0.934959</td>\n",
              "      <td>1.514625</td>\n",
              "      <td>...</td>\n",
              "      <td>-0.353118</td>\n",
              "      <td>-0.132878</td>\n",
              "      <td>-0.071864</td>\n",
              "      <td>-0.09503</td>\n",
              "      <td>-0.190349</td>\n",
              "      <td>-0.006742</td>\n",
              "      <td>-0.139942</td>\n",
              "      <td>0.0</td>\n",
              "      <td>-0.237666</td>\n",
              "      <td>1</td>\n",
              "    </tr>\n",
              "    <tr>\n",
              "      <th>1</th>\n",
              "      <td>-1.620405</td>\n",
              "      <td>0.222410</td>\n",
              "      <td>-1.098739</td>\n",
              "      <td>1.870766</td>\n",
              "      <td>-0.478515</td>\n",
              "      <td>-0.01309</td>\n",
              "      <td>-2.271368</td>\n",
              "      <td>1.445307</td>\n",
              "      <td>-0.431758</td>\n",
              "      <td>-1.425608</td>\n",
              "      <td>...</td>\n",
              "      <td>-0.353118</td>\n",
              "      <td>-0.132878</td>\n",
              "      <td>-0.071864</td>\n",
              "      <td>-0.09503</td>\n",
              "      <td>-0.190349</td>\n",
              "      <td>-0.006742</td>\n",
              "      <td>-0.139942</td>\n",
              "      <td>0.0</td>\n",
              "      <td>-0.237666</td>\n",
              "      <td>1</td>\n",
              "    </tr>\n",
              "    <tr>\n",
              "      <th>2</th>\n",
              "      <td>1.430229</td>\n",
              "      <td>-2.388664</td>\n",
              "      <td>1.813916</td>\n",
              "      <td>-1.350621</td>\n",
              "      <td>1.680917</td>\n",
              "      <td>-0.01309</td>\n",
              "      <td>0.341549</td>\n",
              "      <td>-0.277731</td>\n",
              "      <td>-1.218088</td>\n",
              "      <td>-1.425608</td>\n",
              "      <td>...</td>\n",
              "      <td>-0.353118</td>\n",
              "      <td>-0.132878</td>\n",
              "      <td>-0.071864</td>\n",
              "      <td>-0.09503</td>\n",
              "      <td>-0.190349</td>\n",
              "      <td>-0.006742</td>\n",
              "      <td>-0.139942</td>\n",
              "      <td>0.0</td>\n",
              "      <td>-0.237666</td>\n",
              "      <td>1</td>\n",
              "    </tr>\n",
              "    <tr>\n",
              "      <th>3</th>\n",
              "      <td>1.235464</td>\n",
              "      <td>0.425966</td>\n",
              "      <td>-0.940453</td>\n",
              "      <td>0.918686</td>\n",
              "      <td>-0.063607</td>\n",
              "      <td>-0.01309</td>\n",
              "      <td>0.742523</td>\n",
              "      <td>-0.519010</td>\n",
              "      <td>1.150263</td>\n",
              "      <td>0.687203</td>\n",
              "      <td>...</td>\n",
              "      <td>-0.353118</td>\n",
              "      <td>-0.132878</td>\n",
              "      <td>-0.071864</td>\n",
              "      <td>-0.09503</td>\n",
              "      <td>-0.190349</td>\n",
              "      <td>-0.006742</td>\n",
              "      <td>-0.139942</td>\n",
              "      <td>0.0</td>\n",
              "      <td>-0.237666</td>\n",
              "      <td>1</td>\n",
              "    </tr>\n",
              "    <tr>\n",
              "      <th>4</th>\n",
              "      <td>-1.470073</td>\n",
              "      <td>-0.782032</td>\n",
              "      <td>1.069193</td>\n",
              "      <td>-1.688096</td>\n",
              "      <td>0.479021</td>\n",
              "      <td>-0.01309</td>\n",
              "      <td>-1.017933</td>\n",
              "      <td>0.610565</td>\n",
              "      <td>-0.686159</td>\n",
              "      <td>-1.425608</td>\n",
              "      <td>...</td>\n",
              "      <td>-0.353118</td>\n",
              "      <td>-0.132878</td>\n",
              "      <td>-0.071864</td>\n",
              "      <td>-0.09503</td>\n",
              "      <td>-0.190349</td>\n",
              "      <td>-0.006742</td>\n",
              "      <td>-0.139942</td>\n",
              "      <td>0.0</td>\n",
              "      <td>-0.237666</td>\n",
              "      <td>1</td>\n",
              "    </tr>\n",
              "  </tbody>\n",
              "</table>\n",
              "<p>5 rows × 141 columns</p>\n",
              "</div>\n",
              "    <div class=\"colab-df-buttons\">\n",
              "\n",
              "  <div class=\"colab-df-container\">\n",
              "    <button class=\"colab-df-convert\" onclick=\"convertToInteractive('df-7ecac153-4cfe-4000-ad6a-79ad2ae123b5')\"\n",
              "            title=\"Convert this dataframe to an interactive table.\"\n",
              "            style=\"display:none;\">\n",
              "\n",
              "  <svg xmlns=\"http://www.w3.org/2000/svg\" height=\"24px\" viewBox=\"0 -960 960 960\">\n",
              "    <path d=\"M120-120v-720h720v720H120Zm60-500h600v-160H180v160Zm220 220h160v-160H400v160Zm0 220h160v-160H400v160ZM180-400h160v-160H180v160Zm440 0h160v-160H620v160ZM180-180h160v-160H180v160Zm440 0h160v-160H620v160Z\"/>\n",
              "  </svg>\n",
              "    </button>\n",
              "\n",
              "  <style>\n",
              "    .colab-df-container {\n",
              "      display:flex;\n",
              "      gap: 12px;\n",
              "    }\n",
              "\n",
              "    .colab-df-convert {\n",
              "      background-color: #E8F0FE;\n",
              "      border: none;\n",
              "      border-radius: 50%;\n",
              "      cursor: pointer;\n",
              "      display: none;\n",
              "      fill: #1967D2;\n",
              "      height: 32px;\n",
              "      padding: 0 0 0 0;\n",
              "      width: 32px;\n",
              "    }\n",
              "\n",
              "    .colab-df-convert:hover {\n",
              "      background-color: #E2EBFA;\n",
              "      box-shadow: 0px 1px 2px rgba(60, 64, 67, 0.3), 0px 1px 3px 1px rgba(60, 64, 67, 0.15);\n",
              "      fill: #174EA6;\n",
              "    }\n",
              "\n",
              "    .colab-df-buttons div {\n",
              "      margin-bottom: 4px;\n",
              "    }\n",
              "\n",
              "    [theme=dark] .colab-df-convert {\n",
              "      background-color: #3B4455;\n",
              "      fill: #D2E3FC;\n",
              "    }\n",
              "\n",
              "    [theme=dark] .colab-df-convert:hover {\n",
              "      background-color: #434B5C;\n",
              "      box-shadow: 0px 1px 3px 1px rgba(0, 0, 0, 0.15);\n",
              "      filter: drop-shadow(0px 1px 2px rgba(0, 0, 0, 0.3));\n",
              "      fill: #FFFFFF;\n",
              "    }\n",
              "  </style>\n",
              "\n",
              "    <script>\n",
              "      const buttonEl =\n",
              "        document.querySelector('#df-7ecac153-4cfe-4000-ad6a-79ad2ae123b5 button.colab-df-convert');\n",
              "      buttonEl.style.display =\n",
              "        google.colab.kernel.accessAllowed ? 'block' : 'none';\n",
              "\n",
              "      async function convertToInteractive(key) {\n",
              "        const element = document.querySelector('#df-7ecac153-4cfe-4000-ad6a-79ad2ae123b5');\n",
              "        const dataTable =\n",
              "          await google.colab.kernel.invokeFunction('convertToInteractive',\n",
              "                                                    [key], {});\n",
              "        if (!dataTable) return;\n",
              "\n",
              "        const docLinkHtml = 'Like what you see? Visit the ' +\n",
              "          '<a target=\"_blank\" href=https://colab.research.google.com/notebooks/data_table.ipynb>data table notebook</a>'\n",
              "          + ' to learn more about interactive tables.';\n",
              "        element.innerHTML = '';\n",
              "        dataTable['output_type'] = 'display_data';\n",
              "        await google.colab.output.renderOutput(dataTable, element);\n",
              "        const docLink = document.createElement('div');\n",
              "        docLink.innerHTML = docLinkHtml;\n",
              "        element.appendChild(docLink);\n",
              "      }\n",
              "    </script>\n",
              "  </div>\n",
              "\n",
              "\n",
              "<div id=\"df-bad6ce85-d504-456b-99eb-430b6e6d3b3f\">\n",
              "  <button class=\"colab-df-quickchart\" onclick=\"quickchart('df-bad6ce85-d504-456b-99eb-430b6e6d3b3f')\"\n",
              "            title=\"Suggest charts\"\n",
              "            style=\"display:none;\">\n",
              "\n",
              "<svg xmlns=\"http://www.w3.org/2000/svg\" height=\"24px\"viewBox=\"0 0 24 24\"\n",
              "     width=\"24px\">\n",
              "    <g>\n",
              "        <path d=\"M19 3H5c-1.1 0-2 .9-2 2v14c0 1.1.9 2 2 2h14c1.1 0 2-.9 2-2V5c0-1.1-.9-2-2-2zM9 17H7v-7h2v7zm4 0h-2V7h2v10zm4 0h-2v-4h2v4z\"/>\n",
              "    </g>\n",
              "</svg>\n",
              "  </button>\n",
              "\n",
              "<style>\n",
              "  .colab-df-quickchart {\n",
              "      --bg-color: #E8F0FE;\n",
              "      --fill-color: #1967D2;\n",
              "      --hover-bg-color: #E2EBFA;\n",
              "      --hover-fill-color: #174EA6;\n",
              "      --disabled-fill-color: #AAA;\n",
              "      --disabled-bg-color: #DDD;\n",
              "  }\n",
              "\n",
              "  [theme=dark] .colab-df-quickchart {\n",
              "      --bg-color: #3B4455;\n",
              "      --fill-color: #D2E3FC;\n",
              "      --hover-bg-color: #434B5C;\n",
              "      --hover-fill-color: #FFFFFF;\n",
              "      --disabled-bg-color: #3B4455;\n",
              "      --disabled-fill-color: #666;\n",
              "  }\n",
              "\n",
              "  .colab-df-quickchart {\n",
              "    background-color: var(--bg-color);\n",
              "    border: none;\n",
              "    border-radius: 50%;\n",
              "    cursor: pointer;\n",
              "    display: none;\n",
              "    fill: var(--fill-color);\n",
              "    height: 32px;\n",
              "    padding: 0;\n",
              "    width: 32px;\n",
              "  }\n",
              "\n",
              "  .colab-df-quickchart:hover {\n",
              "    background-color: var(--hover-bg-color);\n",
              "    box-shadow: 0 1px 2px rgba(60, 64, 67, 0.3), 0 1px 3px 1px rgba(60, 64, 67, 0.15);\n",
              "    fill: var(--button-hover-fill-color);\n",
              "  }\n",
              "\n",
              "  .colab-df-quickchart-complete:disabled,\n",
              "  .colab-df-quickchart-complete:disabled:hover {\n",
              "    background-color: var(--disabled-bg-color);\n",
              "    fill: var(--disabled-fill-color);\n",
              "    box-shadow: none;\n",
              "  }\n",
              "\n",
              "  .colab-df-spinner {\n",
              "    border: 2px solid var(--fill-color);\n",
              "    border-color: transparent;\n",
              "    border-bottom-color: var(--fill-color);\n",
              "    animation:\n",
              "      spin 1s steps(1) infinite;\n",
              "  }\n",
              "\n",
              "  @keyframes spin {\n",
              "    0% {\n",
              "      border-color: transparent;\n",
              "      border-bottom-color: var(--fill-color);\n",
              "      border-left-color: var(--fill-color);\n",
              "    }\n",
              "    20% {\n",
              "      border-color: transparent;\n",
              "      border-left-color: var(--fill-color);\n",
              "      border-top-color: var(--fill-color);\n",
              "    }\n",
              "    30% {\n",
              "      border-color: transparent;\n",
              "      border-left-color: var(--fill-color);\n",
              "      border-top-color: var(--fill-color);\n",
              "      border-right-color: var(--fill-color);\n",
              "    }\n",
              "    40% {\n",
              "      border-color: transparent;\n",
              "      border-right-color: var(--fill-color);\n",
              "      border-top-color: var(--fill-color);\n",
              "    }\n",
              "    60% {\n",
              "      border-color: transparent;\n",
              "      border-right-color: var(--fill-color);\n",
              "    }\n",
              "    80% {\n",
              "      border-color: transparent;\n",
              "      border-right-color: var(--fill-color);\n",
              "      border-bottom-color: var(--fill-color);\n",
              "    }\n",
              "    90% {\n",
              "      border-color: transparent;\n",
              "      border-bottom-color: var(--fill-color);\n",
              "    }\n",
              "  }\n",
              "</style>\n",
              "\n",
              "  <script>\n",
              "    async function quickchart(key) {\n",
              "      const quickchartButtonEl =\n",
              "        document.querySelector('#' + key + ' button');\n",
              "      quickchartButtonEl.disabled = true;  // To prevent multiple clicks.\n",
              "      quickchartButtonEl.classList.add('colab-df-spinner');\n",
              "      try {\n",
              "        const charts = await google.colab.kernel.invokeFunction(\n",
              "            'suggestCharts', [key], {});\n",
              "      } catch (error) {\n",
              "        console.error('Error during call to suggestCharts:', error);\n",
              "      }\n",
              "      quickchartButtonEl.classList.remove('colab-df-spinner');\n",
              "      quickchartButtonEl.classList.add('colab-df-quickchart-complete');\n",
              "    }\n",
              "    (() => {\n",
              "      let quickchartButtonEl =\n",
              "        document.querySelector('#df-bad6ce85-d504-456b-99eb-430b6e6d3b3f button');\n",
              "      quickchartButtonEl.style.display =\n",
              "        google.colab.kernel.accessAllowed ? 'block' : 'none';\n",
              "    })();\n",
              "  </script>\n",
              "</div>\n",
              "\n",
              "    </div>\n",
              "  </div>\n"
            ],
            "application/vnd.google.colaboratory.intrinsic+json": {
              "type": "dataframe",
              "variable_name": "df1"
            }
          },
          "metadata": {},
          "execution_count": 3
        }
      ]
    },
    {
      "cell_type": "code",
      "source": [
        "# Separate features and target\n",
        "X = df1.drop(columns=[\"values\"]).values  # Molecular descriptors (features)\n",
        "y = df1[\"values\"].values  # Target variable (binary classification)\n",
        "\n",
        "\n",
        "# Split data into train and test sets (80% train, 20% test)\n",
        "X_train, X_test, y_train, y_test = train_test_split(X, y, test_size=0.2, random_state=42, stratify=y)\n",
        "\n",
        "# Convert to PyTorch tensors\n",
        "X_train_tensor = torch.tensor(X_train, dtype=torch.float32)\n",
        "y_train_tensor = torch.tensor(y_train, dtype=torch.float32).view(-1, 1)\n",
        "X_test_tensor = torch.tensor(X_test, dtype=torch.float32)\n",
        "y_test_tensor = torch.tensor(y_test, dtype=torch.float32).view(-1, 1)"
      ],
      "metadata": {
        "id": "8VJ9HLT7csno",
        "colab": {
          "base_uri": "https://localhost:8080/",
          "height": 356
        },
        "outputId": "6cfa8224-c9f9-4f35-f7b3-1a836f903477"
      },
      "execution_count": 3,
      "outputs": [
        {
          "output_type": "error",
          "ename": "ValueError",
          "evalue": "Input y contains NaN.",
          "traceback": [
            "\u001b[0;31m---------------------------------------------------------------------------\u001b[0m",
            "\u001b[0;31mValueError\u001b[0m                                Traceback (most recent call last)",
            "\u001b[0;32m<ipython-input-3-3aad72194457>\u001b[0m in \u001b[0;36m<cell line: 0>\u001b[0;34m()\u001b[0m\n\u001b[1;32m      5\u001b[0m \u001b[0;34m\u001b[0m\u001b[0m\n\u001b[1;32m      6\u001b[0m \u001b[0;31m# Split data into train and test sets (80% train, 20% test)\u001b[0m\u001b[0;34m\u001b[0m\u001b[0;34m\u001b[0m\u001b[0m\n\u001b[0;32m----> 7\u001b[0;31m \u001b[0mX_train\u001b[0m\u001b[0;34m,\u001b[0m \u001b[0mX_test\u001b[0m\u001b[0;34m,\u001b[0m \u001b[0my_train\u001b[0m\u001b[0;34m,\u001b[0m \u001b[0my_test\u001b[0m \u001b[0;34m=\u001b[0m \u001b[0mtrain_test_split\u001b[0m\u001b[0;34m(\u001b[0m\u001b[0mX\u001b[0m\u001b[0;34m,\u001b[0m \u001b[0my\u001b[0m\u001b[0;34m,\u001b[0m \u001b[0mtest_size\u001b[0m\u001b[0;34m=\u001b[0m\u001b[0;36m0.2\u001b[0m\u001b[0;34m,\u001b[0m \u001b[0mrandom_state\u001b[0m\u001b[0;34m=\u001b[0m\u001b[0;36m42\u001b[0m\u001b[0;34m,\u001b[0m \u001b[0mstratify\u001b[0m\u001b[0;34m=\u001b[0m\u001b[0my\u001b[0m\u001b[0;34m)\u001b[0m\u001b[0;34m\u001b[0m\u001b[0;34m\u001b[0m\u001b[0m\n\u001b[0m\u001b[1;32m      8\u001b[0m \u001b[0;34m\u001b[0m\u001b[0m\n\u001b[1;32m      9\u001b[0m \u001b[0;31m# Convert to PyTorch tensors\u001b[0m\u001b[0;34m\u001b[0m\u001b[0;34m\u001b[0m\u001b[0m\n",
            "\u001b[0;32m/usr/local/lib/python3.11/dist-packages/sklearn/utils/_param_validation.py\u001b[0m in \u001b[0;36mwrapper\u001b[0;34m(*args, **kwargs)\u001b[0m\n\u001b[1;32m    214\u001b[0m                     )\n\u001b[1;32m    215\u001b[0m                 ):\n\u001b[0;32m--> 216\u001b[0;31m                     \u001b[0;32mreturn\u001b[0m \u001b[0mfunc\u001b[0m\u001b[0;34m(\u001b[0m\u001b[0;34m*\u001b[0m\u001b[0margs\u001b[0m\u001b[0;34m,\u001b[0m \u001b[0;34m**\u001b[0m\u001b[0mkwargs\u001b[0m\u001b[0;34m)\u001b[0m\u001b[0;34m\u001b[0m\u001b[0;34m\u001b[0m\u001b[0m\n\u001b[0m\u001b[1;32m    217\u001b[0m             \u001b[0;32mexcept\u001b[0m \u001b[0mInvalidParameterError\u001b[0m \u001b[0;32mas\u001b[0m \u001b[0me\u001b[0m\u001b[0;34m:\u001b[0m\u001b[0;34m\u001b[0m\u001b[0;34m\u001b[0m\u001b[0m\n\u001b[1;32m    218\u001b[0m                 \u001b[0;31m# When the function is just a wrapper around an estimator, we allow\u001b[0m\u001b[0;34m\u001b[0m\u001b[0;34m\u001b[0m\u001b[0m\n",
            "\u001b[0;32m/usr/local/lib/python3.11/dist-packages/sklearn/model_selection/_split.py\u001b[0m in \u001b[0;36mtrain_test_split\u001b[0;34m(test_size, train_size, random_state, shuffle, stratify, *arrays)\u001b[0m\n\u001b[1;32m   2870\u001b[0m         \u001b[0mcv\u001b[0m \u001b[0;34m=\u001b[0m \u001b[0mCVClass\u001b[0m\u001b[0;34m(\u001b[0m\u001b[0mtest_size\u001b[0m\u001b[0;34m=\u001b[0m\u001b[0mn_test\u001b[0m\u001b[0;34m,\u001b[0m \u001b[0mtrain_size\u001b[0m\u001b[0;34m=\u001b[0m\u001b[0mn_train\u001b[0m\u001b[0;34m,\u001b[0m \u001b[0mrandom_state\u001b[0m\u001b[0;34m=\u001b[0m\u001b[0mrandom_state\u001b[0m\u001b[0;34m)\u001b[0m\u001b[0;34m\u001b[0m\u001b[0;34m\u001b[0m\u001b[0m\n\u001b[1;32m   2871\u001b[0m \u001b[0;34m\u001b[0m\u001b[0m\n\u001b[0;32m-> 2872\u001b[0;31m         \u001b[0mtrain\u001b[0m\u001b[0;34m,\u001b[0m \u001b[0mtest\u001b[0m \u001b[0;34m=\u001b[0m \u001b[0mnext\u001b[0m\u001b[0;34m(\u001b[0m\u001b[0mcv\u001b[0m\u001b[0;34m.\u001b[0m\u001b[0msplit\u001b[0m\u001b[0;34m(\u001b[0m\u001b[0mX\u001b[0m\u001b[0;34m=\u001b[0m\u001b[0marrays\u001b[0m\u001b[0;34m[\u001b[0m\u001b[0;36m0\u001b[0m\u001b[0;34m]\u001b[0m\u001b[0;34m,\u001b[0m \u001b[0my\u001b[0m\u001b[0;34m=\u001b[0m\u001b[0mstratify\u001b[0m\u001b[0;34m)\u001b[0m\u001b[0;34m)\u001b[0m\u001b[0;34m\u001b[0m\u001b[0;34m\u001b[0m\u001b[0m\n\u001b[0m\u001b[1;32m   2873\u001b[0m \u001b[0;34m\u001b[0m\u001b[0m\n\u001b[1;32m   2874\u001b[0m     \u001b[0mtrain\u001b[0m\u001b[0;34m,\u001b[0m \u001b[0mtest\u001b[0m \u001b[0;34m=\u001b[0m \u001b[0mensure_common_namespace_device\u001b[0m\u001b[0;34m(\u001b[0m\u001b[0marrays\u001b[0m\u001b[0;34m[\u001b[0m\u001b[0;36m0\u001b[0m\u001b[0;34m]\u001b[0m\u001b[0;34m,\u001b[0m \u001b[0mtrain\u001b[0m\u001b[0;34m,\u001b[0m \u001b[0mtest\u001b[0m\u001b[0;34m)\u001b[0m\u001b[0;34m\u001b[0m\u001b[0;34m\u001b[0m\u001b[0m\n",
            "\u001b[0;32m/usr/local/lib/python3.11/dist-packages/sklearn/model_selection/_split.py\u001b[0m in \u001b[0;36msplit\u001b[0;34m(self, X, y, groups)\u001b[0m\n\u001b[1;32m   2403\u001b[0m                 \u001b[0mUserWarning\u001b[0m\u001b[0;34m,\u001b[0m\u001b[0;34m\u001b[0m\u001b[0;34m\u001b[0m\u001b[0m\n\u001b[1;32m   2404\u001b[0m             )\n\u001b[0;32m-> 2405\u001b[0;31m         \u001b[0my\u001b[0m \u001b[0;34m=\u001b[0m \u001b[0mcheck_array\u001b[0m\u001b[0;34m(\u001b[0m\u001b[0my\u001b[0m\u001b[0;34m,\u001b[0m \u001b[0minput_name\u001b[0m\u001b[0;34m=\u001b[0m\u001b[0;34m\"y\"\u001b[0m\u001b[0;34m,\u001b[0m \u001b[0mensure_2d\u001b[0m\u001b[0;34m=\u001b[0m\u001b[0;32mFalse\u001b[0m\u001b[0;34m,\u001b[0m \u001b[0mdtype\u001b[0m\u001b[0;34m=\u001b[0m\u001b[0;32mNone\u001b[0m\u001b[0;34m)\u001b[0m\u001b[0;34m\u001b[0m\u001b[0;34m\u001b[0m\u001b[0m\n\u001b[0m\u001b[1;32m   2406\u001b[0m         \u001b[0;32mreturn\u001b[0m \u001b[0msuper\u001b[0m\u001b[0;34m(\u001b[0m\u001b[0;34m)\u001b[0m\u001b[0;34m.\u001b[0m\u001b[0msplit\u001b[0m\u001b[0;34m(\u001b[0m\u001b[0mX\u001b[0m\u001b[0;34m,\u001b[0m \u001b[0my\u001b[0m\u001b[0;34m,\u001b[0m \u001b[0mgroups\u001b[0m\u001b[0;34m)\u001b[0m\u001b[0;34m\u001b[0m\u001b[0;34m\u001b[0m\u001b[0m\n\u001b[1;32m   2407\u001b[0m \u001b[0;34m\u001b[0m\u001b[0m\n",
            "\u001b[0;32m/usr/local/lib/python3.11/dist-packages/sklearn/utils/validation.py\u001b[0m in \u001b[0;36mcheck_array\u001b[0;34m(array, accept_sparse, accept_large_sparse, dtype, order, copy, force_writeable, force_all_finite, ensure_all_finite, ensure_non_negative, ensure_2d, allow_nd, ensure_min_samples, ensure_min_features, estimator, input_name)\u001b[0m\n\u001b[1;32m   1105\u001b[0m \u001b[0;34m\u001b[0m\u001b[0m\n\u001b[1;32m   1106\u001b[0m         \u001b[0;32mif\u001b[0m \u001b[0mensure_all_finite\u001b[0m\u001b[0;34m:\u001b[0m\u001b[0;34m\u001b[0m\u001b[0;34m\u001b[0m\u001b[0m\n\u001b[0;32m-> 1107\u001b[0;31m             _assert_all_finite(\n\u001b[0m\u001b[1;32m   1108\u001b[0m                 \u001b[0marray\u001b[0m\u001b[0;34m,\u001b[0m\u001b[0;34m\u001b[0m\u001b[0;34m\u001b[0m\u001b[0m\n\u001b[1;32m   1109\u001b[0m                 \u001b[0minput_name\u001b[0m\u001b[0;34m=\u001b[0m\u001b[0minput_name\u001b[0m\u001b[0;34m,\u001b[0m\u001b[0;34m\u001b[0m\u001b[0;34m\u001b[0m\u001b[0m\n",
            "\u001b[0;32m/usr/local/lib/python3.11/dist-packages/sklearn/utils/validation.py\u001b[0m in \u001b[0;36m_assert_all_finite\u001b[0;34m(X, allow_nan, msg_dtype, estimator_name, input_name)\u001b[0m\n\u001b[1;32m    118\u001b[0m         \u001b[0;32mreturn\u001b[0m\u001b[0;34m\u001b[0m\u001b[0;34m\u001b[0m\u001b[0m\n\u001b[1;32m    119\u001b[0m \u001b[0;34m\u001b[0m\u001b[0m\n\u001b[0;32m--> 120\u001b[0;31m     _assert_all_finite_element_wise(\n\u001b[0m\u001b[1;32m    121\u001b[0m         \u001b[0mX\u001b[0m\u001b[0;34m,\u001b[0m\u001b[0;34m\u001b[0m\u001b[0;34m\u001b[0m\u001b[0m\n\u001b[1;32m    122\u001b[0m         \u001b[0mxp\u001b[0m\u001b[0;34m=\u001b[0m\u001b[0mxp\u001b[0m\u001b[0;34m,\u001b[0m\u001b[0;34m\u001b[0m\u001b[0;34m\u001b[0m\u001b[0m\n",
            "\u001b[0;32m/usr/local/lib/python3.11/dist-packages/sklearn/utils/validation.py\u001b[0m in \u001b[0;36m_assert_all_finite_element_wise\u001b[0;34m(X, xp, allow_nan, msg_dtype, estimator_name, input_name)\u001b[0m\n\u001b[1;32m    167\u001b[0m                 \u001b[0;34m\"#estimators-that-handle-nan-values\"\u001b[0m\u001b[0;34m\u001b[0m\u001b[0;34m\u001b[0m\u001b[0m\n\u001b[1;32m    168\u001b[0m             )\n\u001b[0;32m--> 169\u001b[0;31m         \u001b[0;32mraise\u001b[0m \u001b[0mValueError\u001b[0m\u001b[0;34m(\u001b[0m\u001b[0mmsg_err\u001b[0m\u001b[0;34m)\u001b[0m\u001b[0;34m\u001b[0m\u001b[0;34m\u001b[0m\u001b[0m\n\u001b[0m\u001b[1;32m    170\u001b[0m \u001b[0;34m\u001b[0m\u001b[0m\n\u001b[1;32m    171\u001b[0m \u001b[0;34m\u001b[0m\u001b[0m\n",
            "\u001b[0;31mValueError\u001b[0m: Input y contains NaN."
          ]
        }
      ]
    },
    {
      "source": [
        "# Separate features and target\n",
        "# Before separating features and target, drop rows with NaN in the target column\n",
        "df1.dropna(subset=[\"values\"], inplace=True)\n",
        "\n",
        "X = df1.drop(columns=[\"values\"]).values  # Molecular descriptors (features)\n",
        "y = df1[\"values\"].values  # Target variable (binary classification)\n",
        "\n",
        "\n",
        "# Split data into train and test sets (80% train, 20% test)\n",
        "X_train, X_test, y_train, y_test = train_test_split(X, y, test_size=0.2, random_state=42, stratify=y)\n",
        "\n",
        "# Convert to PyTorch tensors\n",
        "X_train_tensor = torch.tensor(X_train, dtype=torch.float32)\n",
        "y_train_tensor = torch.tensor(y_train, dtype=torch.float32).view(-1, 1)\n",
        "X_test_tensor = torch.tensor(X_test, dtype=torch.float32)\n",
        "y_test_tensor = torch.tensor(y_test, dtype=torch.float32).view(-1, 1)"
      ],
      "cell_type": "code",
      "metadata": {
        "id": "BlrgHTwdeYaw"
      },
      "execution_count": 4,
      "outputs": []
    },
    {
      "cell_type": "code",
      "source": [
        "X.shape"
      ],
      "metadata": {
        "colab": {
          "base_uri": "https://localhost:8080/"
        },
        "id": "XFq3sNotjSrs",
        "outputId": "fa8932b9-c443-45f7-95d7-f54f48b30eb6"
      },
      "execution_count": 5,
      "outputs": [
        {
          "output_type": "execute_result",
          "data": {
            "text/plain": [
              "(13006, 140)"
            ]
          },
          "metadata": {},
          "execution_count": 5
        }
      ]
    },
    {
      "cell_type": "code",
      "source": [
        "y.shape"
      ],
      "metadata": {
        "colab": {
          "base_uri": "https://localhost:8080/"
        },
        "id": "TheyditvejlD",
        "outputId": "18911a47-1cf3-4fc3-b257-dd92cb6a5bc3"
      },
      "execution_count": 7,
      "outputs": [
        {
          "output_type": "execute_result",
          "data": {
            "text/plain": [
              "(13006,)"
            ]
          },
          "metadata": {},
          "execution_count": 7
        }
      ]
    },
    {
      "cell_type": "markdown",
      "source": [
        "# **NN 2D relu**"
      ],
      "metadata": {
        "id": "uXpe02rZdQ-O"
      }
    },
    {
      "cell_type": "code",
      "source": [
        "# Define Neural Network\n",
        "class MolecularNN(nn.Module):\n",
        "    def __init__(self, input_dim):\n",
        "        super(MolecularNN, self).__init__()\n",
        "        self.fc1 = nn.Linear(input_dim, 256)  # Increased neurons for non-linearity\n",
        "        self.bn1 = nn.BatchNorm1d(256)  # Batch normalization for stable training\n",
        "        self.fc2 = nn.Linear(256, 128)\n",
        "        self.bn2 = nn.BatchNorm1d(128)\n",
        "        self.fc3 = nn.Linear(128, 64)\n",
        "        self.bn3 = nn.BatchNorm1d(64)\n",
        "        self.fc4 = nn.Linear(64, 1)  # Binary classification output\n",
        "        self.relu = nn.ReLU()\n",
        "        self.dropout = nn.Dropout(0.3)  # Dropout to prevent overfitting\n",
        "        self.sigmoid = nn.Sigmoid()\n",
        "\n",
        "    def forward(self, x):\n",
        "        x = self.relu(self.bn1(self.fc1(x)))\n",
        "        x = self.dropout(x)\n",
        "        x = self.relu(self.bn2(self.fc2(x)))\n",
        "        x = self.dropout(x)\n",
        "        x = self.relu(self.bn3(self.fc3(x)))\n",
        "        x = self.sigmoid(self.fc4(x))  # Sigmoid for binary classification\n",
        "        return x\n",
        "\n",
        "# Initialize model\n",
        "input_dim = X_train.shape[1]  # Number of molecular descriptors\n",
        "model = MolecularNN(input_dim)\n",
        "\n",
        "# Define loss function and optimizer\n",
        "criterion = nn.BCELoss()  # Binary Cross-Entropy loss\n",
        "optimizer = optim.Adam(model.parameters(), lr=0.001, weight_decay=1e-5)  # L2 regularization\n",
        "\n",
        "# Training loop\n",
        "epochs = 500\n",
        "for epoch in range(epochs):\n",
        "    model.train()\n",
        "    optimizer.zero_grad()\n",
        "    y_pred = model(X_train_tensor)\n",
        "    loss = criterion(y_pred, y_train_tensor)\n",
        "    loss.backward()  # Backpropagation\n",
        "    optimizer.step()\n",
        "\n",
        "    if (epoch+1) % 5 == 0:\n",
        "        print(f\"Epoch [{epoch+1}/{epochs}], Loss: {loss.item():.4f}\")"
      ],
      "metadata": {
        "id": "GDX1CaAGc0z6",
        "colab": {
          "base_uri": "https://localhost:8080/"
        },
        "outputId": "8b60929d-dbe4-4177-ffcc-7e3669dfcef8"
      },
      "execution_count": 8,
      "outputs": [
        {
          "output_type": "stream",
          "name": "stdout",
          "text": [
            "Epoch [5/500], Loss: 0.6568\n",
            "Epoch [10/500], Loss: 0.5935\n",
            "Epoch [15/500], Loss: 0.5474\n",
            "Epoch [20/500], Loss: 0.5152\n",
            "Epoch [25/500], Loss: 0.4887\n",
            "Epoch [30/500], Loss: 0.4691\n",
            "Epoch [35/500], Loss: 0.4547\n",
            "Epoch [40/500], Loss: 0.4418\n",
            "Epoch [45/500], Loss: 0.4323\n",
            "Epoch [50/500], Loss: 0.4232\n",
            "Epoch [55/500], Loss: 0.4156\n",
            "Epoch [60/500], Loss: 0.4080\n",
            "Epoch [65/500], Loss: 0.4004\n",
            "Epoch [70/500], Loss: 0.3938\n",
            "Epoch [75/500], Loss: 0.3893\n",
            "Epoch [80/500], Loss: 0.3846\n",
            "Epoch [85/500], Loss: 0.3779\n",
            "Epoch [90/500], Loss: 0.3728\n",
            "Epoch [95/500], Loss: 0.3667\n",
            "Epoch [100/500], Loss: 0.3632\n",
            "Epoch [105/500], Loss: 0.3574\n",
            "Epoch [110/500], Loss: 0.3529\n",
            "Epoch [115/500], Loss: 0.3492\n",
            "Epoch [120/500], Loss: 0.3416\n",
            "Epoch [125/500], Loss: 0.3388\n",
            "Epoch [130/500], Loss: 0.3349\n",
            "Epoch [135/500], Loss: 0.3286\n",
            "Epoch [140/500], Loss: 0.3268\n",
            "Epoch [145/500], Loss: 0.3247\n",
            "Epoch [150/500], Loss: 0.3197\n",
            "Epoch [155/500], Loss: 0.3145\n",
            "Epoch [160/500], Loss: 0.3143\n",
            "Epoch [165/500], Loss: 0.3069\n",
            "Epoch [170/500], Loss: 0.3057\n",
            "Epoch [175/500], Loss: 0.3002\n",
            "Epoch [180/500], Loss: 0.3002\n",
            "Epoch [185/500], Loss: 0.2916\n",
            "Epoch [190/500], Loss: 0.2900\n",
            "Epoch [195/500], Loss: 0.2853\n",
            "Epoch [200/500], Loss: 0.2884\n",
            "Epoch [205/500], Loss: 0.2789\n",
            "Epoch [210/500], Loss: 0.2751\n",
            "Epoch [215/500], Loss: 0.2732\n",
            "Epoch [220/500], Loss: 0.2685\n",
            "Epoch [225/500], Loss: 0.2723\n",
            "Epoch [230/500], Loss: 0.2650\n",
            "Epoch [235/500], Loss: 0.2629\n",
            "Epoch [240/500], Loss: 0.2576\n",
            "Epoch [245/500], Loss: 0.2571\n",
            "Epoch [250/500], Loss: 0.2534\n",
            "Epoch [255/500], Loss: 0.2549\n",
            "Epoch [260/500], Loss: 0.2481\n",
            "Epoch [265/500], Loss: 0.2533\n",
            "Epoch [270/500], Loss: 0.2460\n",
            "Epoch [275/500], Loss: 0.2478\n",
            "Epoch [280/500], Loss: 0.2421\n",
            "Epoch [285/500], Loss: 0.2412\n",
            "Epoch [290/500], Loss: 0.2353\n",
            "Epoch [295/500], Loss: 0.2372\n",
            "Epoch [300/500], Loss: 0.2287\n",
            "Epoch [305/500], Loss: 0.2322\n",
            "Epoch [310/500], Loss: 0.2327\n",
            "Epoch [315/500], Loss: 0.2257\n",
            "Epoch [320/500], Loss: 0.2207\n",
            "Epoch [325/500], Loss: 0.2260\n",
            "Epoch [330/500], Loss: 0.2223\n",
            "Epoch [335/500], Loss: 0.2245\n",
            "Epoch [340/500], Loss: 0.2186\n",
            "Epoch [345/500], Loss: 0.2166\n",
            "Epoch [350/500], Loss: 0.2175\n",
            "Epoch [355/500], Loss: 0.2127\n",
            "Epoch [360/500], Loss: 0.2134\n",
            "Epoch [365/500], Loss: 0.2152\n",
            "Epoch [370/500], Loss: 0.2096\n",
            "Epoch [375/500], Loss: 0.2141\n",
            "Epoch [380/500], Loss: 0.2064\n",
            "Epoch [385/500], Loss: 0.2090\n",
            "Epoch [390/500], Loss: 0.2061\n",
            "Epoch [395/500], Loss: 0.2014\n",
            "Epoch [400/500], Loss: 0.2034\n",
            "Epoch [405/500], Loss: 0.2012\n",
            "Epoch [410/500], Loss: 0.2037\n",
            "Epoch [415/500], Loss: 0.1991\n",
            "Epoch [420/500], Loss: 0.2005\n",
            "Epoch [425/500], Loss: 0.1967\n",
            "Epoch [430/500], Loss: 0.1972\n",
            "Epoch [435/500], Loss: 0.1949\n",
            "Epoch [440/500], Loss: 0.1889\n",
            "Epoch [445/500], Loss: 0.1879\n",
            "Epoch [450/500], Loss: 0.1901\n",
            "Epoch [455/500], Loss: 0.1844\n",
            "Epoch [460/500], Loss: 0.1911\n",
            "Epoch [465/500], Loss: 0.1905\n",
            "Epoch [470/500], Loss: 0.1856\n",
            "Epoch [475/500], Loss: 0.1844\n",
            "Epoch [480/500], Loss: 0.1831\n",
            "Epoch [485/500], Loss: 0.1802\n",
            "Epoch [490/500], Loss: 0.1817\n",
            "Epoch [495/500], Loss: 0.1808\n",
            "Epoch [500/500], Loss: 0.1863\n"
          ]
        }
      ]
    },
    {
      "cell_type": "code",
      "source": [
        "# Evaluate model\n",
        "model.eval()\n",
        "with torch.no_grad():\n",
        "    y_pred_test = model(X_test_tensor)\n",
        "    y_pred_labels = (y_pred_test >= 0.5).float()  # Convert probabilities to binary labels\n",
        "\n",
        "# Convert tensors to numpy for metrics calculation\n",
        "y_test_np = y_test_tensor.numpy()\n",
        "y_pred_np = y_pred_labels.numpy()\n",
        "\n",
        "# Calculate evaluation metrics\n",
        "accuracy = accuracy_score(y_test_np, y_pred_np)\n",
        "precision = precision_score(y_test_np, y_pred_np)\n",
        "recall = recall_score(y_test_np, y_pred_np)\n",
        "f1 = f1_score(y_test_np, y_pred_np)\n",
        "roc_auc = roc_auc_score(y_test_np, y_pred_test.numpy())\n",
        "conf_matrix = confusion_matrix(y_test_np, y_pred_np)\n",
        "\n",
        "# Print evaluation metrics\n",
        "print(f\"Accuracy: {accuracy:.4f}\")\n",
        "print(f\"Precision: {precision:.4f}\")\n",
        "print(f\"Recall: {recall:.4f}\")\n",
        "print(f\"F1-score: {f1:.4f}\")\n",
        "print(f\"ROC AUC: {roc_auc:.4f}\")\n",
        "print(\"Confusion Matrix:\")\n",
        "print(conf_matrix)\n"
      ],
      "metadata": {
        "colab": {
          "base_uri": "https://localhost:8080/"
        },
        "id": "8r62MlMHc3YV",
        "outputId": "d5902a82-7cfa-40f1-9378-70429c9e0ce9"
      },
      "execution_count": 9,
      "outputs": [
        {
          "output_type": "stream",
          "name": "stdout",
          "text": [
            "Accuracy: 0.7656\n",
            "Precision: 0.8312\n",
            "Recall: 0.8815\n",
            "F1-score: 0.8556\n",
            "ROC AUC: 0.7178\n",
            "Confusion Matrix:\n",
            "[[ 185  367]\n",
            " [ 243 1807]]\n"
          ]
        }
      ]
    },
    {
      "cell_type": "markdown",
      "source": [
        "# **Optimized NN 2D leaky relu**"
      ],
      "metadata": {
        "id": "uhRnNlmydD9A"
      }
    },
    {
      "cell_type": "code",
      "source": [
        "class ImprovedMolecularNN(nn.Module):\n",
        "    def __init__(self, input_dim):\n",
        "        super(ImprovedMolecularNN, self).__init__()\n",
        "        self.fc1 = nn.Linear(input_dim, 512)\n",
        "        self.bn1 = nn.BatchNorm1d(512)\n",
        "        self.fc2 = nn.Linear(512, 256)\n",
        "        self.bn2 = nn.BatchNorm1d(256)\n",
        "        self.fc3 = nn.Linear(256, 128)\n",
        "        self.bn3 = nn.BatchNorm1d(128)\n",
        "        self.fc4 = nn.Linear(128, 64)\n",
        "        self.bn4 = nn.BatchNorm1d(64)\n",
        "        self.fc5 = nn.Linear(64, 1)\n",
        "\n",
        "        self.leaky_relu = nn.LeakyReLU(0.1)\n",
        "        self.dropout = nn.Dropout(0.4)\n",
        "        self.sigmoid = nn.Sigmoid()\n",
        "\n",
        "    def forward(self, x):\n",
        "        x = self.leaky_relu(self.bn1(self.fc1(x)))\n",
        "        x = self.dropout(x)\n",
        "        x = self.leaky_relu(self.bn2(self.fc2(x)))\n",
        "        x = self.dropout(x)\n",
        "        x = self.leaky_relu(self.bn3(self.fc3(x)))\n",
        "        x = self.dropout(x)\n",
        "        x = self.leaky_relu(self.bn4(self.fc4(x)))\n",
        "        x = self.sigmoid(self.fc5(x))\n",
        "        return x\n",
        "\n",
        "# Initialize model\n",
        "input_dim = X_train.shape[1]  # Number of molecular descriptors\n",
        "model = ImprovedMolecularNN(input_dim)\n",
        "\n",
        "# Define loss function and optimizer\n",
        "criterion = nn.BCELoss()  # Binary Cross-Entropy loss\n",
        "optimizer = optim.Adam(model.parameters(), lr=0.001, weight_decay=1e-5)  # L2 regularization\n",
        "\n",
        "# Training loop\n",
        "epochs = 500\n",
        "for epoch in range(epochs):\n",
        "    model.train()\n",
        "    optimizer.zero_grad()\n",
        "    y_pred = model(X_train_tensor)\n",
        "    loss = criterion(y_pred, y_train_tensor)\n",
        "    loss.backward()  # Backpropagation\n",
        "    optimizer.step()\n",
        "\n",
        "    if (epoch+1) % 5 == 0:\n",
        "        print(f\"Epoch [{epoch+1}/{epochs}], Loss: {loss.item():.4f}\")"
      ],
      "metadata": {
        "id": "UQiP0oGadEUd",
        "colab": {
          "base_uri": "https://localhost:8080/"
        },
        "outputId": "cabddc1f-b722-4dc9-838b-b5613c5e0e18"
      },
      "execution_count": 10,
      "outputs": [
        {
          "output_type": "stream",
          "name": "stdout",
          "text": [
            "Epoch [5/500], Loss: 0.6103\n",
            "Epoch [10/500], Loss: 0.5553\n",
            "Epoch [15/500], Loss: 0.5178\n",
            "Epoch [20/500], Loss: 0.4893\n",
            "Epoch [25/500], Loss: 0.4691\n",
            "Epoch [30/500], Loss: 0.4541\n",
            "Epoch [35/500], Loss: 0.4430\n",
            "Epoch [40/500], Loss: 0.4340\n",
            "Epoch [45/500], Loss: 0.4251\n",
            "Epoch [50/500], Loss: 0.4164\n",
            "Epoch [55/500], Loss: 0.4090\n",
            "Epoch [60/500], Loss: 0.4042\n",
            "Epoch [65/500], Loss: 0.3949\n",
            "Epoch [70/500], Loss: 0.3901\n",
            "Epoch [75/500], Loss: 0.3868\n",
            "Epoch [80/500], Loss: 0.3805\n",
            "Epoch [85/500], Loss: 0.3755\n",
            "Epoch [90/500], Loss: 0.3715\n",
            "Epoch [95/500], Loss: 0.3657\n",
            "Epoch [100/500], Loss: 0.3639\n",
            "Epoch [105/500], Loss: 0.3582\n",
            "Epoch [110/500], Loss: 0.3505\n",
            "Epoch [115/500], Loss: 0.3462\n",
            "Epoch [120/500], Loss: 0.3405\n",
            "Epoch [125/500], Loss: 0.3402\n",
            "Epoch [130/500], Loss: 0.3369\n",
            "Epoch [135/500], Loss: 0.3367\n",
            "Epoch [140/500], Loss: 0.3288\n",
            "Epoch [145/500], Loss: 0.3284\n",
            "Epoch [150/500], Loss: 0.3213\n",
            "Epoch [155/500], Loss: 0.3197\n",
            "Epoch [160/500], Loss: 0.3193\n",
            "Epoch [165/500], Loss: 0.3092\n",
            "Epoch [170/500], Loss: 0.3073\n",
            "Epoch [175/500], Loss: 0.3015\n",
            "Epoch [180/500], Loss: 0.3013\n",
            "Epoch [185/500], Loss: 0.2995\n",
            "Epoch [190/500], Loss: 0.2938\n",
            "Epoch [195/500], Loss: 0.2939\n",
            "Epoch [200/500], Loss: 0.2917\n",
            "Epoch [205/500], Loss: 0.2913\n",
            "Epoch [210/500], Loss: 0.2859\n",
            "Epoch [215/500], Loss: 0.2849\n",
            "Epoch [220/500], Loss: 0.2821\n",
            "Epoch [225/500], Loss: 0.2805\n",
            "Epoch [230/500], Loss: 0.2746\n",
            "Epoch [235/500], Loss: 0.2755\n",
            "Epoch [240/500], Loss: 0.2729\n",
            "Epoch [245/500], Loss: 0.2676\n",
            "Epoch [250/500], Loss: 0.2639\n",
            "Epoch [255/500], Loss: 0.2668\n",
            "Epoch [260/500], Loss: 0.2637\n",
            "Epoch [265/500], Loss: 0.2575\n",
            "Epoch [270/500], Loss: 0.2601\n",
            "Epoch [275/500], Loss: 0.2569\n",
            "Epoch [280/500], Loss: 0.2542\n",
            "Epoch [285/500], Loss: 0.2569\n",
            "Epoch [290/500], Loss: 0.2528\n",
            "Epoch [295/500], Loss: 0.2512\n",
            "Epoch [300/500], Loss: 0.2472\n",
            "Epoch [305/500], Loss: 0.2482\n",
            "Epoch [310/500], Loss: 0.2463\n",
            "Epoch [315/500], Loss: 0.2451\n",
            "Epoch [320/500], Loss: 0.2425\n",
            "Epoch [325/500], Loss: 0.2427\n",
            "Epoch [330/500], Loss: 0.2385\n",
            "Epoch [335/500], Loss: 0.2352\n",
            "Epoch [340/500], Loss: 0.2274\n",
            "Epoch [345/500], Loss: 0.2342\n",
            "Epoch [350/500], Loss: 0.2314\n",
            "Epoch [355/500], Loss: 0.2306\n",
            "Epoch [360/500], Loss: 0.2274\n",
            "Epoch [365/500], Loss: 0.2254\n",
            "Epoch [370/500], Loss: 0.2270\n",
            "Epoch [375/500], Loss: 0.2248\n",
            "Epoch [380/500], Loss: 0.2308\n",
            "Epoch [385/500], Loss: 0.2195\n",
            "Epoch [390/500], Loss: 0.2198\n",
            "Epoch [395/500], Loss: 0.2230\n",
            "Epoch [400/500], Loss: 0.2204\n",
            "Epoch [405/500], Loss: 0.2227\n",
            "Epoch [410/500], Loss: 0.2186\n",
            "Epoch [415/500], Loss: 0.2170\n",
            "Epoch [420/500], Loss: 0.2226\n",
            "Epoch [425/500], Loss: 0.2181\n",
            "Epoch [430/500], Loss: 0.2138\n",
            "Epoch [435/500], Loss: 0.2140\n",
            "Epoch [440/500], Loss: 0.2100\n",
            "Epoch [445/500], Loss: 0.2131\n",
            "Epoch [450/500], Loss: 0.2106\n",
            "Epoch [455/500], Loss: 0.2081\n",
            "Epoch [460/500], Loss: 0.2123\n",
            "Epoch [465/500], Loss: 0.2037\n",
            "Epoch [470/500], Loss: 0.2102\n",
            "Epoch [475/500], Loss: 0.2133\n",
            "Epoch [480/500], Loss: 0.2068\n",
            "Epoch [485/500], Loss: 0.2065\n",
            "Epoch [490/500], Loss: 0.2050\n",
            "Epoch [495/500], Loss: 0.2033\n",
            "Epoch [500/500], Loss: 0.2025\n"
          ]
        }
      ]
    },
    {
      "cell_type": "code",
      "source": [
        "# Evaluate model\n",
        "model.eval()\n",
        "with torch.no_grad():\n",
        "    y_pred_test = model(X_test_tensor)\n",
        "    y_pred_labels = (y_pred_test >= 0.5).float()  # Convert probabilities to binary labels\n",
        "\n",
        "# Convert tensors to numpy for metrics calculation\n",
        "y_test_np = y_test_tensor.numpy()\n",
        "y_pred_np = y_pred_labels.numpy()\n",
        "\n",
        "# Calculate evaluation metrics\n",
        "accuracy = accuracy_score(y_test_np, y_pred_np)\n",
        "precision = precision_score(y_test_np, y_pred_np)\n",
        "recall = recall_score(y_test_np, y_pred_np)\n",
        "f1 = f1_score(y_test_np, y_pred_np)\n",
        "roc_auc = roc_auc_score(y_test_np, y_pred_test.numpy())\n",
        "conf_matrix = confusion_matrix(y_test_np, y_pred_np)\n",
        "\n",
        "# Print evaluation metrics\n",
        "print(f\"Accuracy: {accuracy:.4f}\")\n",
        "print(f\"Precision: {precision:.4f}\")\n",
        "print(f\"Recall: {recall:.4f}\")\n",
        "print(f\"F1-score: {f1:.4f}\")\n",
        "print(f\"ROC AUC: {roc_auc:.4f}\")\n",
        "print(\"Confusion Matrix:\")\n",
        "print(conf_matrix)"
      ],
      "metadata": {
        "colab": {
          "base_uri": "https://localhost:8080/"
        },
        "id": "FkAE5bROdG3E",
        "outputId": "c2e063d8-a8e7-45e3-8166-a4936a7a29db"
      },
      "execution_count": 11,
      "outputs": [
        {
          "output_type": "stream",
          "name": "stdout",
          "text": [
            "Accuracy: 0.7579\n",
            "Precision: 0.8417\n",
            "Recall: 0.8532\n",
            "F1-score: 0.8474\n",
            "ROC AUC: 0.7346\n",
            "Confusion Matrix:\n",
            "[[ 223  329]\n",
            " [ 301 1749]]\n"
          ]
        }
      ]
    },
    {
      "cell_type": "markdown",
      "source": [
        "# **Early stopping 2D features**"
      ],
      "metadata": {
        "id": "tbRbQHQm-0bS"
      }
    },
    {
      "cell_type": "code",
      "source": [
        "from sklearn.model_selection import train_test_split\n",
        "\n",
        "# Load and preprocess data\n",
        "X = df1.drop(columns=[\"values\"]).values  # Features (molecular descriptors)\n",
        "y = df1[\"values\"].values  # Target variable (binary classification)\n",
        "\n",
        "# Normalize features\n",
        "scaler = StandardScaler()\n",
        "X_scaled = scaler.fit_transform(X)\n",
        "\n",
        "# Split data into train (70%), validation (15%), and test (15%) sets\n",
        "X_train, X_temp, y_train, y_temp = train_test_split(X_scaled, y, test_size=0.3, random_state=42, stratify=y)\n",
        "X_val, X_test, y_val, y_test = train_test_split(X_temp, y_temp, test_size=0.5, random_state=42, stratify=y_temp)\n",
        "\n",
        "# Convert to PyTorch tensors\n",
        "X_train_tensor = torch.tensor(X_train, dtype=torch.float32)\n",
        "y_train_tensor = torch.tensor(y_train, dtype=torch.float32).view(-1, 1)\n",
        "X_val_tensor = torch.tensor(X_val, dtype=torch.float32)\n",
        "y_val_tensor = torch.tensor(y_val, dtype=torch.float32).view(-1, 1)\n",
        "X_test_tensor = torch.tensor(X_test, dtype=torch.float32)\n",
        "y_test_tensor = torch.tensor(y_test, dtype=torch.float32).view(-1, 1)\n"
      ],
      "metadata": {
        "id": "7dwZaIh5-zL5"
      },
      "execution_count": 12,
      "outputs": []
    },
    {
      "cell_type": "code",
      "source": [
        "# Training loop with Early Stopping\n",
        "epochs = 5000\n",
        "best_loss = float('inf')\n",
        "counter = 0\n",
        "patience = 50  # Stop training if validation loss doesn't improve for 50 epochs\n",
        "\n",
        "for epoch in range(epochs):\n",
        "    model.train()\n",
        "    optimizer.zero_grad()\n",
        "\n",
        "    # Forward pass\n",
        "    y_pred = model(X_train_tensor)\n",
        "    loss = criterion(y_pred, y_train_tensor)\n",
        "\n",
        "    # Backpropagation\n",
        "    loss.backward()\n",
        "    optimizer.step()\n",
        "\n",
        "    # Validation phase\n",
        "    model.eval()\n",
        "    with torch.no_grad():\n",
        "        val_pred = model(X_val_tensor)\n",
        "        val_loss = criterion(val_pred, y_val_tensor)  # Now correctly defined\n",
        "\n",
        "    # Check early stopping condition\n",
        "    if val_loss.item() < best_loss - 0.001:\n",
        "        best_loss = val_loss.item()\n",
        "        counter = 0  # Reset counter\n",
        "        best_model = model.state_dict()  # Save best model\n",
        "    else:\n",
        "        counter += 1  # Increase counter if no improvement\n",
        "\n",
        "    if counter >= patience:\n",
        "        print(f\"Early stopping at epoch {epoch+1}\")\n",
        "        break\n",
        "\n",
        "    # Print loss every 10 epochs\n",
        "    if (epoch+1) % 5 == 0:\n",
        "        print(f\"Epoch [{epoch+1}/{epochs}], Train Loss: {loss.item():.4f}, Val Loss: {val_loss.item():.4f}\")\n",
        "\n",
        "# Load the best model before testing\n",
        "model.load_state_dict(best_model)\n"
      ],
      "metadata": {
        "colab": {
          "base_uri": "https://localhost:8080/"
        },
        "id": "b2Q6I2Rf_UP3",
        "outputId": "3c67be44-f26c-48f5-9592-e065249f4ef7"
      },
      "execution_count": 13,
      "outputs": [
        {
          "output_type": "stream",
          "name": "stdout",
          "text": [
            "Epoch [5/5000], Train Loss: 0.1974, Val Loss: 0.5490\n",
            "Epoch [10/5000], Train Loss: 0.2005, Val Loss: 0.5506\n",
            "Epoch [15/5000], Train Loss: 0.1964, Val Loss: 0.5598\n",
            "Epoch [20/5000], Train Loss: 0.1929, Val Loss: 0.5632\n",
            "Epoch [25/5000], Train Loss: 0.1962, Val Loss: 0.5695\n",
            "Epoch [30/5000], Train Loss: 0.1904, Val Loss: 0.5752\n",
            "Epoch [35/5000], Train Loss: 0.1926, Val Loss: 0.5820\n",
            "Epoch [40/5000], Train Loss: 0.1872, Val Loss: 0.5885\n",
            "Epoch [45/5000], Train Loss: 0.1864, Val Loss: 0.5917\n",
            "Epoch [50/5000], Train Loss: 0.1894, Val Loss: 0.5974\n",
            "Early stopping at epoch 51\n"
          ]
        },
        {
          "output_type": "execute_result",
          "data": {
            "text/plain": [
              "<All keys matched successfully>"
            ]
          },
          "metadata": {},
          "execution_count": 13
        }
      ]
    },
    {
      "cell_type": "code",
      "source": [
        "# Evaluate model on the test set\n",
        "model.eval()\n",
        "with torch.no_grad():\n",
        "    y_pred_test = model(X_test_tensor)\n",
        "    y_pred_labels = (y_pred_test >= 0.5).float()  # Convert probabilities to binary labels\n",
        "\n",
        "# Convert tensors to numpy for metric calculations\n",
        "y_test_np = y_test_tensor.numpy()\n",
        "y_pred_np = y_pred_labels.numpy()\n",
        "\n",
        "# Calculate evaluation metrics\n",
        "accuracy = accuracy_score(y_test_np, y_pred_np)\n",
        "precision = precision_score(y_test_np, y_pred_np)\n",
        "recall = recall_score(y_test_np, y_pred_np)\n",
        "f1 = f1_score(y_test_np, y_pred_np)\n",
        "roc_auc = roc_auc_score(y_test_np, y_pred_test.numpy())\n",
        "conf_matrix = confusion_matrix(y_test_np, y_pred_np)\n",
        "\n",
        "# Print evaluation results\n",
        "print(\"\\n--- Final Model Evaluation on Test Set ---\")\n",
        "print(f\"Accuracy: {accuracy:.4f}\")\n",
        "print(f\"Precision: {precision:.4f}\")\n",
        "print(f\"Recall: {recall:.4f}\")\n",
        "print(f\"F1-score: {f1:.4f}\")\n",
        "print(f\"ROC AUC: {roc_auc:.4f}\")\n",
        "print(\"Confusion Matrix:\")\n",
        "print(conf_matrix)\n"
      ],
      "metadata": {
        "colab": {
          "base_uri": "https://localhost:8080/"
        },
        "id": "j8knNownAAaB",
        "outputId": "ca2b35c3-eacb-4fbc-b3be-5cf16cdf0b98"
      },
      "execution_count": 14,
      "outputs": [
        {
          "output_type": "stream",
          "name": "stdout",
          "text": [
            "\n",
            "--- Final Model Evaluation on Test Set ---\n",
            "Accuracy: 0.7817\n",
            "Precision: 0.8638\n",
            "Recall: 0.8582\n",
            "F1-score: 0.8610\n",
            "ROC AUC: 0.7824\n",
            "Confusion Matrix:\n",
            "[[ 206  208]\n",
            " [ 218 1319]]\n"
          ]
        }
      ]
    },
    {
      "cell_type": "code",
      "source": [
        "import matplotlib.pyplot as plt\n",
        "from sklearn.metrics import roc_curve, auc\n",
        "\n",
        "# Assuming you have y_test_np and y_pred_test from your code\n",
        "fpr, tpr, thresholds = roc_curve(y_test_np, y_pred_test.numpy())\n",
        "roc_auc = auc(fpr, tpr)\n",
        "\n",
        "plt.figure()\n",
        "plt.plot(fpr, tpr, color='darkorange', lw=2, label='ROC curve (area = %0.2f)' % roc_auc)\n",
        "plt.plot([0, 1], [0, 1], color='navy', lw=2, linestyle='--')\n",
        "plt.xlim([0.0, 1.0])\n",
        "plt.ylim([0.0, 1.05])\n",
        "plt.xlabel('False Positive Rate')\n",
        "plt.ylabel('True Positive Rate')\n",
        "plt.title('Receiver Operating Characteristic')\n",
        "plt.legend(loc=\"lower right\")\n",
        "plt.show()\n"
      ],
      "metadata": {
        "colab": {
          "base_uri": "https://localhost:8080/",
          "height": 472
        },
        "id": "0CRCVgtjqQFI",
        "outputId": "43642bc6-7364-471c-e7b2-b59b8dc9ce07"
      },
      "execution_count": 15,
      "outputs": [
        {
          "output_type": "display_data",
          "data": {
            "text/plain": [
              "<Figure size 640x480 with 1 Axes>"
            ],
            "image/png": "[encoded data removed]"
          },
          "metadata": {}
        }
      ]
    },
    {
      "cell_type": "code",
      "source": [
        "# prompt: draw confusion marix\n",
        "\n",
        "import seaborn as sns\n",
        "\n",
        "plt.figure(figsize=(8, 6))\n",
        "sns.heatmap(conf_matrix, annot=True, fmt=\"d\", cmap=\"Blues\",\n",
        "            xticklabels=[\"Predicted 0\", \"Predicted 1\"],\n",
        "            yticklabels=[\"Actual 0\", \"Actual 1\"])\n",
        "plt.xlabel(\"Predicted Label\")\n",
        "plt.ylabel(\"True Label\")\n",
        "plt.title(\"Confusion Matrix\")\n",
        "plt.show()\n"
      ],
      "metadata": {
        "colab": {
          "base_uri": "https://localhost:8080/",
          "height": 564
        },
        "id": "HV6_cKT6qwJo",
        "outputId": "b7e5cd68-6112-49e0-e118-9556730afd0e"
      },
      "execution_count": 16,
      "outputs": [
        {
          "output_type": "display_data",
          "data": {
            "text/plain": [
              "<Figure size 800x600 with 2 Axes>"
            ],
            "image/png": "[encoded data removed]"
          },
          "metadata": {}
        }
      ]
    },
    {
      "cell_type": "code",
      "source": [
        "# Save trained model\n",
        "torch.save(model, \"2D rdki best nn_model.pth\")\n",
        "print(\"Best model saved as 'best_molecular_nn_model.pth'\")\n"
      ],
      "metadata": {
        "colab": {
          "base_uri": "https://localhost:8080/"
        },
        "id": "j_TmxHl-uvva",
        "outputId": "40df8c4e-7422-4e65-a1ec-9fa12651ac8d"
      },
      "execution_count": 17,
      "outputs": [
        {
          "output_type": "stream",
          "name": "stdout",
          "text": [
            "Best model saved as 'best_molecular_nn_model.pth'\n"
          ]
        }
      ]
    },
    {
      "cell_type": "code",
      "source": [
        "# prompt: save the model in pkl format\n",
        "\n",
        "import pickle\n",
        "\n",
        "# Save the entire model in pkl format\n",
        "with open('2D_rdki_best_nn_model.pkl', 'wb') as f:\n",
        "    pickle.dump(model, f)\n",
        "\n",
        "print(\"Best model saved as '2D_rdki_best_nn_model.pkl'\")"
      ],
      "metadata": {
        "colab": {
          "base_uri": "https://localhost:8080/"
        },
        "id": "ZgzYLpspjWZQ",
        "outputId": "6598a065-287f-4dec-fa21-2a188249dd63"
      },
      "execution_count": 18,
      "outputs": [
        {
          "output_type": "stream",
          "name": "stdout",
          "text": [
            "Best model saved as '2D_rdki_best_nn_model.pkl'\n"
          ]
        }
      ]
    },
    {
      "cell_type": "code",
      "source": [
        "feature_names = df1.drop(columns=[\"values\"]).columns\n",
        "feature_importances = model.fc1.weight.detach().numpy().mean(axis=0)  # Example, replace with your model's feature importance extraction\n",
        "\n",
        "# Create a dataframe with feature importances\n",
        "feature_importance_df = pd.DataFrame({'feature': feature_names, 'importance': feature_importances})\n",
        "\n",
        "# Sort features by importance\n",
        "feature_importance_df = feature_importance_df.sort_values(by=\"importance\", ascending=False)\n",
        "\n",
        "# Print or visualize the top 20 features\n",
        "print(\"Top 20 Features:\")\n",
        "print(feature_importance_df.head(20))\n",
        "\n"
      ],
      "metadata": {
        "colab": {
          "base_uri": "https://localhost:8080/"
        },
        "id": "t5p3_V_Cu1Ks",
        "outputId": "c9ad5f3d-70c1-459d-aa18-b1360fbe3eb6"
      },
      "execution_count": 19,
      "outputs": [
        {
          "output_type": "stream",
          "name": "stdout",
          "text": [
            "Top 20 Features:\n",
            "                 feature  importance\n",
            "95     fr_benzodiazepine    0.043286\n",
            "112            fr_lactam    0.037810\n",
            "110       fr_isothiocyan    0.037444\n",
            "5    NumRadicalElectrons    0.028857\n",
            "121             fr_oxime    0.023111\n",
            "72             fr_Ar_COO    0.021452\n",
            "70       fr_Al_OH_noTert    0.020825\n",
            "97              fr_diazo    0.018786\n",
            "40            SlogP_VSA1    0.017384\n",
            "79                fr_NH1    0.017245\n",
            "93                fr_azo    0.017068\n",
            "3                    qed    0.016688\n",
            "136          fr_thiocyan    0.015848\n",
            "135          fr_thiazole    0.013582\n",
            "49          EState_VSA11    0.013557\n",
            "15              BalabanJ    0.013075\n",
            "46            SlogP_VSA8    0.013052\n",
            "128          fr_pyridine    0.012922\n",
            "111            fr_ketone    0.012797\n",
            "98    fr_dihydropyridine    0.011238\n"
          ]
        }
      ]
    },
    {
      "cell_type": "code",
      "source": [
        "import matplotlib.pyplot as plt\n",
        "\n",
        "# Assuming feature_importance_df is already created as in your previous code\n",
        "\n",
        "# Select top 10 features\n",
        "top_10_features = feature_importance_df.head(20)\n",
        "\n",
        "# Create the bar plot\n",
        "plt.figure(figsize=(10, 6))\n",
        "plt.bar(top_10_features['feature'], top_10_features['importance'])\n",
        "plt.xlabel(\"Features\")\n",
        "plt.ylabel(\"Importance\")\n",
        "plt.title(\"Top 20 Feature Importances\")\n",
        "plt.xticks(rotation=45, ha='right')  # Rotate x-axis labels for better readability\n",
        "plt.tight_layout()\n",
        "plt.show()\n"
      ],
      "metadata": {
        "colab": {
          "base_uri": "https://localhost:8080/",
          "height": 607
        },
        "id": "rn2VRdFnvGDy",
        "outputId": "f8148de3-d6a8-47f4-a753-8eec6961446a"
      },
      "execution_count": 20,
      "outputs": [
        {
          "output_type": "display_data",
          "data": {
            "text/plain": [
              "<Figure size 1000x600 with 1 Axes>"
            ],
            "image/png": "[encoded data removed]"
          },
          "metadata": {}
        }
      ]
    }
  ]
}